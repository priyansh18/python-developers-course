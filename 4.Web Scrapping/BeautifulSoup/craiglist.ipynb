{
 "metadata": {
  "language_info": {
   "codemirror_mode": {
    "name": "ipython",
    "version": 3
   },
   "file_extension": ".py",
   "mimetype": "text/x-python",
   "name": "python",
   "nbconvert_exporter": "python",
   "pygments_lexer": "ipython3",
   "version": "3.8.5"
  },
  "orig_nbformat": 2,
  "kernelspec": {
   "name": "python385jvsc74a57bd031f2aee4e71d21fbe5cf8b01ff0e069b9275f58929596ceb00d14d90e3e16cd6",
   "display_name": "Python 3.8.5 64-bit"
  },
  "metadata": {
   "interpreter": {
    "hash": "31f2aee4e71d21fbe5cf8b01ff0e069b9275f58929596ceb00d14d90e3e16cd6"
   }
  }
 },
 "nbformat": 4,
 "nbformat_minor": 2,
 "cells": [
  {
   "cell_type": "code",
   "execution_count": null,
   "metadata": {},
   "outputs": [],
   "source": [
    "import bs4\n",
    "import requests\n",
    "from bs4 import BeautifulSoup\n",
    "import pandas as pd"
   ]
  },
  {
   "cell_type": "code",
   "execution_count": 44,
   "metadata": {},
   "outputs": [],
   "source": [
    "url = \"https://boston.craigslist.org/search/sof\""
   ]
  },
  {
   "cell_type": "code",
   "execution_count": 45,
   "metadata": {},
   "outputs": [],
   "source": [
    "response = requests.get(url)"
   ]
  },
  {
   "cell_type": "code",
   "execution_count": 46,
   "metadata": {},
   "outputs": [
    {
     "output_type": "execute_result",
     "data": {
      "text/plain": [
       "<Response [200]>"
      ]
     },
     "metadata": {},
     "execution_count": 46
    }
   ],
   "source": [
    "response"
   ]
  },
  {
   "cell_type": "code",
   "execution_count": 47,
   "metadata": {
    "tags": [
     "outputPrepend"
    ]
   },
   "outputs": [
    {
     "output_type": "stream",
     "name": "stdout",
     "text": [
      "sult-title hdrlnk\" id=\"postid_7306093632\" >Xamarine Software Developer</a>\n        </h3>\n\n        <span class=\"result-meta\">\n\n\n                <span class=\"result-hood\"> (Newton Highlands)</span>\n\n                <span class=\"result-tags\">\n                </span>\n\n                <span class=\"banish icon icon-trash\" role=\"button\">\n                    <span class=\"screen-reader-text\">hide this posting</span>\n                </span>\n\n            <span class=\"unbanish icon icon-trash red\" role=\"button\" aria-hidden=\"true\"></span>\n            <a href=\"#\" class=\"restore-link\">\n                <span class=\"restore-narrow-text\">restore</span>\n                <span class=\"restore-wide-text\">restore this posting</span>\n            </a>\n\n        </span>\n    </div>\n</li>\n         <li class=\"result-row\" data-pid=\"7303697158\" data-repost-of=\"7295881009\">\n\n        <a href=\"https://boston.craigslist.org/gbs/sof/d/andover-software-engineer/7303697158.html\" class=\"result-image gallery\" data-ids=\"3:01515_fq01DjyHQxqz_09G03e\">\n        </a>\n\n    <div class=\"result-info\">\n        <span class=\"icon icon-star\" role=\"button\">\n            <span class=\"screen-reader-text\">favorite this post</span>\n        </span>\n\n            <time class=\"result-date\" datetime=\"2021-04-08 12:34\" title=\"Thu 08 Apr 12:34:29 PM\">Apr  8</time>\n\n\n        <h3 class=\"result-heading\">\n            <a href=\"https://boston.craigslist.org/gbs/sof/d/andover-software-engineer/7303697158.html\" data-id=\"7303697158\" class=\"result-title hdrlnk\" id=\"postid_7303697158\" >Software Engineer</a>\n        </h3>\n\n        <span class=\"result-meta\">\n\n\n                <span class=\"result-hood\"> (Remote)</span>\n\n                <span class=\"result-tags\">\n                    <span class=\"pictag\">pic</span>\n                </span>\n\n                <span class=\"banish icon icon-trash\" role=\"button\">\n                    <span class=\"screen-reader-text\">hide this posting</span>\n                </span>\n\n            <span class=\"unbanish icon icon-trash red\" role=\"button\" aria-hidden=\"true\"></span>\n            <a href=\"#\" class=\"restore-link\">\n                <span class=\"restore-narrow-text\">restore</span>\n                <span class=\"restore-wide-text\">restore this posting</span>\n            </a>\n\n        </span>\n    </div>\n</li>\n         <li class=\"result-row\" data-pid=\"7302580375\" data-repost-of=\"7295881009\">\n\n        <a href=\"https://boston.craigslist.org/gbs/sof/d/andover-software-engineer/7302580375.html\" class=\"result-image gallery\" data-ids=\"3:01515_fq01DjyHQxqz_09G03e\">\n        </a>\n\n    <div class=\"result-info\">\n        <span class=\"icon icon-star\" role=\"button\">\n            <span class=\"screen-reader-text\">favorite this post</span>\n        </span>\n\n            <time class=\"result-date\" datetime=\"2021-04-06 10:44\" title=\"Tue 06 Apr 10:44:04 AM\">Apr  6</time>\n\n\n        <h3 class=\"result-heading\">\n            <a href=\"https://boston.craigslist.org/gbs/sof/d/andover-software-engineer/7302580375.html\" data-id=\"7302580375\" class=\"result-title hdrlnk\" id=\"postid_7302580375\" >Software Engineer</a>\n        </h3>\n\n        <span class=\"result-meta\">\n\n\n                <span class=\"result-hood\"> (Remote)</span>\n\n                <span class=\"result-tags\">\n                    <span class=\"pictag\">pic</span>\n                </span>\n\n                <span class=\"banish icon icon-trash\" role=\"button\">\n                    <span class=\"screen-reader-text\">hide this posting</span>\n                </span>\n\n            <span class=\"unbanish icon icon-trash red\" role=\"button\" aria-hidden=\"true\"></span>\n            <a href=\"#\" class=\"restore-link\">\n                <span class=\"restore-narrow-text\">restore</span>\n                <span class=\"restore-wide-text\">restore this posting</span>\n            </a>\n\n        </span>\n    </div>\n</li>\n\n                    <h4 class=\"ban nearby\"><span class=\"bantext\">Few local results found. Here are some from nearby areas. Checking &#39;include nearby areas&#39; will expand your search.</span></h4>\n\n                             <li class=\"result-row\" data-pid=\"7306843883\">\n\n        <a href=\"https://worcester.craigslist.org/sof/d/fayville-on-site-vr-device-testing/7306843883.html\" class=\"result-image gallery\" data-ids=\"3:00303_a3kfjDuBHRDz_0hq0hq\">\n        </a>\n\n    <div class=\"result-info\">\n        <span class=\"icon icon-star\" role=\"button\">\n            <span class=\"screen-reader-text\">favorite this post</span>\n        </span>\n\n            <time class=\"result-date\" datetime=\"2021-04-14 15:41\" title=\"Wed 14 Apr 03:41:47 PM\">Apr 14</time>\n\n\n        <h3 class=\"result-heading\">\n            <a href=\"https://worcester.craigslist.org/sof/d/fayville-on-site-vr-device-testing/7306843883.html\" data-id=\"7306843883\" class=\"result-title hdrlnk\" id=\"postid_7306843883\" >On-site VR Device Testing</a>\n        </h3>\n\n        <span class=\"result-meta\">\n\n\n                <span class=\"nearby\" title=\"worcester / central MA\">(wor &gt; Framingham)</span>\n\n                <span class=\"result-tags\">\n                    <span class=\"pictag\">pic</span>\n                </span>\n\n                <span class=\"banish icon icon-trash\" role=\"button\">\n                    <span class=\"screen-reader-text\">hide this posting</span>\n                </span>\n\n            <span class=\"unbanish icon icon-trash red\" role=\"button\" aria-hidden=\"true\"></span>\n            <a href=\"#\" class=\"restore-link\">\n                <span class=\"restore-narrow-text\">restore</span>\n                <span class=\"restore-wide-text\">restore this posting</span>\n            </a>\n\n        </span>\n    </div>\n</li>\n         <li class=\"result-row\" data-pid=\"7314083206\">\n\n        <a href=\"https://providence.craigslist.org/sof/d/providence-software-engineer-engineer/7314083206.html\" class=\"result-image gallery\" data-ids=\"3:00j0j_8ssbDuIRuLHz_0k803m\">\n        </a>\n\n    <div class=\"result-info\">\n        <span class=\"icon icon-star\" role=\"button\">\n            <span class=\"screen-reader-text\">favorite this post</span>\n        </span>\n\n            <time class=\"result-date\" datetime=\"2021-04-28 18:33\" title=\"Wed 28 Apr 06:33:32 PM\">Apr 28</time>\n\n\n        <h3 class=\"result-heading\">\n            <a href=\"https://providence.craigslist.org/sof/d/providence-software-engineer-engineer/7314083206.html\" data-id=\"7314083206\" class=\"result-title hdrlnk\" id=\"postid_7314083206\" >Software Engineer - Engineer Interviewer (Contract-Fully Remote!)</a>\n        </h3>\n\n        <span class=\"result-meta\">\n\n\n                <span class=\"nearby\" title=\"rhode island\">(prv &gt; Remote)</span>\n\n                <span class=\"result-tags\">\n                    <span class=\"pictag\">pic</span>\n                </span>\n\n                <span class=\"banish icon icon-trash\" role=\"button\">\n                    <span class=\"screen-reader-text\">hide this posting</span>\n                </span>\n\n            <span class=\"unbanish icon icon-trash red\" role=\"button\" aria-hidden=\"true\"></span>\n            <a href=\"#\" class=\"restore-link\">\n                <span class=\"restore-narrow-text\">restore</span>\n                <span class=\"restore-wide-text\">restore this posting</span>\n            </a>\n\n        </span>\n    </div>\n</li>\n         <li class=\"result-row\" data-pid=\"7305727506\">\n\n        <a href=\"https://providence.craigslist.org/sof/d/mansfield-manager-or-director/7305727506.html\" class=\"result-image gallery empty\"></a>\n\n    <div class=\"result-info\">\n        <span class=\"icon icon-star\" role=\"button\">\n            <span class=\"screen-reader-text\">favorite this post</span>\n        </span>\n\n            <time class=\"result-date\" datetime=\"2021-04-12 13:40\" title=\"Mon 12 Apr 01:40:03 PM\">Apr 12</time>\n\n\n        <h3 class=\"result-heading\">\n            <a href=\"https://providence.craigslist.org/sof/d/mansfield-manager-or-director/7305727506.html\" data-id=\"7305727506\" class=\"result-title hdrlnk\" id=\"postid_7305727506\" >Manager or Director, Professional Services</a>\n        </h3>\n\n        <span class=\"result-meta\">\n\n\n                <span class=\"nearby\" title=\"rhode island\">(prv &gt; Mansfield, MA)</span>\n\n                <span class=\"result-tags\">\n                    <span class=\"pictag\">img</span>\n                </span>\n\n                <span class=\"banish icon icon-trash\" role=\"button\">\n                    <span class=\"screen-reader-text\">hide this posting</span>\n                </span>\n\n            <span class=\"unbanish icon icon-trash red\" role=\"button\" aria-hidden=\"true\"></span>\n            <a href=\"#\" class=\"restore-link\">\n                <span class=\"restore-narrow-text\">restore</span>\n                <span class=\"restore-wide-text\">restore this posting</span>\n            </a>\n\n        </span>\n    </div>\n</li>\n         <li class=\"result-row\" data-pid=\"7314741888\">\n\n        <a href=\"https://capecod.craigslist.org/sof/d/woods-hole-software-engineer/7314741888.html\" class=\"result-image gallery empty\"></a>\n\n    <div class=\"result-info\">\n        <span class=\"icon icon-star\" role=\"button\">\n            <span class=\"screen-reader-text\">favorite this post</span>\n        </span>\n\n            <time class=\"result-date\" datetime=\"2021-04-30 08:47\" title=\"Fri 30 Apr 08:47:37 AM\">Apr 30</time>\n\n\n        <h3 class=\"result-heading\">\n            <a href=\"https://capecod.craigslist.org/sof/d/woods-hole-software-engineer/7314741888.html\" data-id=\"7314741888\" class=\"result-title hdrlnk\" id=\"postid_7314741888\" >Software Engineer</a>\n        </h3>\n\n        <span class=\"result-meta\">\n\n\n                <span class=\"nearby\" title=\"cape cod / islands\">(cap &gt; Woods Hole, MA)</span>\n\n                <span class=\"result-tags\">\n                </span>\n\n                <span class=\"banish icon icon-trash\" role=\"button\">\n                    <span class=\"screen-reader-text\">hide this posting</span>\n                </span>\n\n            <span class=\"unbanish icon icon-trash red\" role=\"button\" aria-hidden=\"true\"></span>\n            <a href=\"#\" class=\"restore-link\">\n                <span class=\"restore-narrow-text\">restore</span>\n                <span class=\"restore-wide-text\">restore this posting</span>\n            </a>\n\n        </span>\n    </div>\n</li>\n         <li class=\"result-row\" data-pid=\"7310382091\">\n\n        <a href=\"https://hartford.craigslist.org/sof/d/hartford-apprenticeship-software/7310382091.html\" class=\"result-image gallery empty\"></a>\n\n    <div class=\"result-info\">\n        <span class=\"icon icon-star\" role=\"button\">\n            <span class=\"screen-reader-text\">favorite this post</span>\n        </span>\n\n            <time class=\"result-date\" datetime=\"2021-04-21 12:28\" title=\"Wed 21 Apr 12:28:55 PM\">Apr 21</time>\n\n\n        <h3 class=\"result-heading\">\n            <a href=\"https://hartford.craigslist.org/sof/d/hartford-apprenticeship-software/7310382091.html\" data-id=\"7310382091\" class=\"result-title hdrlnk\" id=\"postid_7310382091\" >Apprenticeship Software Developer - Recent High School Graduates Only</a>\n        </h3>\n\n        <span class=\"result-meta\">\n\n\n                <span class=\"nearby\" title=\"hartford, CT\">(htf &gt; Hartford)</span>\n\n                <span class=\"result-tags\">\n                </span>\n\n                <span class=\"banish icon icon-trash\" role=\"button\">\n                    <span class=\"screen-reader-text\">hide this posting</span>\n                </span>\n\n            <span class=\"unbanish icon icon-trash red\" role=\"button\" aria-hidden=\"true\"></span>\n            <a href=\"#\" class=\"restore-link\">\n                <span class=\"restore-narrow-text\">restore</span>\n                <span class=\"restore-wide-text\">restore this posting</span>\n            </a>\n\n        </span>\n    </div>\n</li>\n\n                </ul>\n            </div>\n\n            <div class=\"search-legend bottom\">\n                <div class=\"search-view\">\n                    <span class=\"buttongroup\"><a class=\"backtotop button\" href=\"#page-top\">^ back to top</a></span>\n                </div>\n                <div class=\"search-sort\">\n                    <span class=\"buttongroup\"><a class=\"backtotop button\" href=\"#page-top\">^ back to top</a></span>\n                </div>\n                <div class=\"paginator buttongroup firstpage lastpage\">\n    <span class=\"resulttotal\">\n        <span class=\"for-map\">\n        showing <span class=\"displaycountShow\">...</span> postings\n        <span class=\"zoom-out-for-more\" style=\"display: none\">\n            -\n            <a href=\"\">\n                zoom out for all <span class=\"total\">31</span>\n            </a>\n        </span>\n\n        </span>\n    </span>\n    <span class=\"buttons\">\n        <a href=\"/d/software-qa-dba-etc/search/sof\" class=\"button first\" title=\"first page\">&lt;&lt;</a>\n        <span class=\"button first\" title=\"first page\">&lt;&lt;</span>\n        <a href=\"/d/software-qa-dba-etc/search/sof\" class=\"button prev\" title=\"previous page\">&lt; prev</a>\n        <span class=\"button prev\" title=\"previous page\">&lt; prev</span>\n\n        <span class=\"button pagenum\">\n            <span class=\"range\">\n                <span class=\"rangeFrom\">1</span>\n                -\n                <span class=\"rangeTo\">31</span>\n            </span>\n            /\n            <span class=\"totalcount\">31</span>\n        </span>\n\n        <a href=\"\" class=\"button next\" title=\"next page\">next &gt; </a>\n        <span class=\"button next\" title=\"next page\"> next &gt; </span>\n    </span>\n</div>\n\n            </div>\n\n            <section class=\"blurbs\">\n                \n            </section>\n\n            <div id=\"floater\">\n                <img class=\"loading\" src=\"//www.craigslist.org/images/animated-spinny.gif\" alt=\"\">\n                <img class=\"payload\" src=\"//www.craigslist.org/images/animated-spinny.gif\" alt=\"\">\n            </div>\n        </form>\n\n\n<div class=\"slidemessage\">\n    <span class=\"fave\">\n        <span class=\"star\"></span>\n        favorited\n    </span>\n    <span class=\"unfave\">\n        <span class=\"star\"></span>\n        no longer favorited\n    </span>\n    <span class=\"hide\">\n        <span class=\"trash\"></span>\n        hidden\n    </span>\n    <span class=\"unhide\">\n        <span class=\"trash\"></span>\n        no longer hidden\n    </span>\n</div>\n\n<footer>\n    <ul class=\"clfooter\">\n        <li>&copy; 2021 <span class=\"desktop\">craigslist</span><span class=\"mobile\">CL</span></li>\n        <li><a href=\"https://www.craigslist.org/about/help/\">help</a></li>\n        <li><a href=\"https://www.craigslist.org/about/scams\">safety</a></li>\n        <li class=\"desktop\"><a href=\"https://www.craigslist.org/about/privacy.policy\">privacy</a><sup class=\"neu\">new</sup></li>\n        <li class=\"desktop\"><a href=\"https://forums.craigslist.org/?forumID=8\">feedback</a></li>\n        <li><a href=\"https://www.craigslist.org/about/terms.of.use\">terms</a></li>\n        <li><a href=\"https://www.craigslist.org/about/\">about</a></li>\n        <li class=\"fsel desktop linklike\" data-mode=\"mobile\">mobile</li>\n        <li class=\"fsel mobile linklike\" data-mode=\"regular\">desktop</li>\n    </ul>\n</footer>\n    </section>\n\n    <template id=\"gallerycarousel\">\n        <div class=\"slider-info\"></div><div class=\"slider-back arrow\">&lt;</div><div class=\"slider-forward arrow\">&gt;</div>\n    </template>\n\n    \n                <script>\n                try {\n                    if (\n                        !/\\/\\/.+\\.craigslist\\.org\\/about\\//.test(window.location.href)\n                        &&\n                        (!window.addEventListener || JSON.parse(JSON.stringify('x')) !== 'x')\n                    ) {\n                        throw \"unsupported browser\";\n                    }\n                } catch (e) {\n                    function cleanup() {\n                        document.body.innerHTML = '<div id=\"cl-unsupported-browser\" style=\"margin:1em;font-size:150%;text-align:center;\">We have detected you are using a browser that is missing critical features.<br><br>Please visit craigslist from a modern browser.</div>';\n                        document.body.style = \"display:block\";\n                    }\n\n                    try {\n                        document.body.style = \"display:none\";\n                    } catch (e) {\n                    }\n                    window.onload = cleanup;\n                    window.clUnsupportedBrowser = true;\n                }\n                </script>\n            <script src=\"//www.craigslist.org/js/general-concat.min.js?v=cc28563e61dc64feab8e1cf8f35b74d4\" type=\"text/javascript\" ></script>\n\n<script type=\"text/template\" id=\"clustertemplate\">\n    <li class=\"posting {visited}\" data-pid=\"{PostingID}\">\n        <img src=\"{ImageThumb}\">\n        <div class=\"housing_bubble_banner\">\n            <span class=\"{hasPrice}price\">{currencySymbol}{price}</span>\n            <span class=\"bedrooms\">{BedroomsContent}</span>\n            <span class=\"postingtitle\"><a>{PostingTitle}</a></span>\n            <span class=\"js-only map-banish-unbanish\" data-pid=\"{PostingID}\">\n                <span class=\"banish\">\n                    <span class=\"icon icon-trash\" role=\"button\"></span>\n                    <span class=\"screen-reader-text\">hide this posting</span>\n                </span>\n                <span class=\"unbanish\">\n                    <span class=\"icon icon-trash red\" role=\"button\"></span>\n                    unhide\n                </span>\n            </span>\n        </div>\n    </li>\n</script>\n<script type=\"text/template\" id=\"postingtemplate\">\n    <div class=\"viewcontainer pics loading\">\n        <div class=\"backtolist\">\n            &laquo; back to posting list\n        </div>\n        <div class=\"title\">\n            <span class=\"icon icon-star\" data-pid=\"{PostingID}\" role=\"button\">\n                <span class=\"screen-reader-text\">favorite this post</span>\n            </span>\n            <span class=\"postingtitle\">\n                <a href=\"{PostingURL}\" target=\"_blank\">{PostingTitle}</a>\n            </span>\n            <div>\n                <span class=\"{hasPrice}price\">{currencySymbol}{price}</span>\n                <span class=\"bedrooms\">{BedroomsContent}</span>\n                <span class=\"js-only map-banish-unbanish\" data-pid=\"{PostingID}\">\n                    <span class=\"banish\">\n                        <span class=\"icon icon-trash\" role=\"button\"></span>\n                        <span class=\"screen-reader-text\">hide this posting</span>\n                    </span>\n                    <span class=\"unbanish\">\n                        <span class=\"icon icon-trash red\" role=\"button\"></span>\n                        <span class=\"screen-reader-text\">unhide</span>\n                        unhide\n                    </span>\n                </span>\n            </div>\n        </div>\n        <hr style=\"clear:both\">\n        <div class=\"picscontainer gallery\">\n            <span class=\"slider-back arrow\">&lt;</span><span class=\"slider-info\"></span><span class=\"slider-forward arrow\">&gt;</span>\n            <div class=\"swipe\">\n                <div class=\"swipe-wrap\">\n                    <img class=\"loading\" src=\"//www.craigslist.org/images/animated-spinny.gif\" alt=\"\">\n                </div>\n            </div>\n        </div>\n        <div class=\"infocontainer\"></div>\n        <hr style=\"clear:both\">\n        <div class=\"timecontainer\"></div>\n        <a class=\"viewpostinglink\" href=\"{PostingURL}\" target=\"_blank\">view posting</a>\n        <div class=\"contenttoggle\">\n            <a class=\"moreinfo\">more info</a>\n            <a class=\"showpics\">show images</a>\n        </div>\n    </div>\n</script>\n<script type=\"text/template\" id=\"popuptemplate\">\n    <div id=\"mapbubble\" class=\"posting\">\n        <ul id=\"clusterbubble\"></ul>\n        <div id=\"postbubble\"></div>\n    </div>\n</script>\n    <script src=\"//www.craigslist.org/js/leaflet-concat.min.js?v=66cc485807e67440f6b0d8f1fbced8ae\" type=\"text/javascript\" ></script>\n\n    <script src=\"//www.craigslist.org/js/search-concat.min.js?v=d5a723cf2be89b6eaae155dd9ada3c27\" type=\"text/javascript\" ></script>\n\n    <script src=\"//www.craigslist.org/js/postings-concat.min.js?v=dc59a76497f8ac00dc99db926c8fef7a\" type=\"text/javascript\" ></script>\n\n</body>\n</html>\n\n"
     ]
    }
   ],
   "source": [
    "print(response.text)"
   ]
  },
  {
   "cell_type": "code",
   "execution_count": 48,
   "metadata": {},
   "outputs": [],
   "source": [
    "data = response.text\n",
    "soup = BeautifulSoup(data,'html.parser')\n"
   ]
  },
  {
   "cell_type": "code",
   "execution_count": 49,
   "metadata": {},
   "outputs": [],
   "source": [
    "jobs = soup.find_all('div',{'class':'result-info'})"
   ]
  },
  {
   "cell_type": "code",
   "execution_count": 50,
   "metadata": {
    "tags": []
   },
   "outputs": [
    {
     "output_type": "stream",
     "name": "stdout",
     "text": [
      "<div class=\"result-info\">\n<span class=\"icon icon-star\" role=\"button\">\n<span class=\"screen-reader-text\">favorite this post</span>\n</span>\n<time class=\"result-date\" datetime=\"2021-05-05 08:55\" title=\"Wed 05 May 08:55:45 AM\">May  5</time>\n<h3 class=\"result-heading\">\n<a class=\"result-title hdrlnk\" data-id=\"7317162822\" href=\"https://boston.craigslist.org/gbs/sof/d/andover-software-engineer/7317162822.html\" id=\"postid_7317162822\">Software Engineer</a>\n</h3>\n<span class=\"result-meta\">\n<span class=\"result-tags\">\n<span class=\"pictag\">pic</span>\n</span>\n<span class=\"banish icon icon-trash\" role=\"button\">\n<span class=\"screen-reader-text\">hide this posting</span>\n</span>\n<span aria-hidden=\"true\" class=\"unbanish icon icon-trash red\" role=\"button\"></span>\n<a class=\"restore-link\" href=\"#\">\n<span class=\"restore-narrow-text\">restore</span>\n<span class=\"restore-wide-text\">restore this posting</span>\n</a>\n</span>\n</div>\n"
     ]
    }
   ],
   "source": [
    "print(jobs[0])"
   ]
  },
  {
   "cell_type": "code",
   "execution_count": 51,
   "metadata": {
    "tags": []
   },
   "outputs": [
    {
     "output_type": "stream",
     "name": "stdout",
     "text": [
      "Job Title :  Software Engineer \nlocation :  N/A \ndate :  May  5 \nlink :  https://boston.craigslist.org/gbs/sof/d/andover-software-engineer/7317162822.html \n----->\nJob Title :  Data Science Fellowship \nlocation :  N/A \ndate :  Apr 29 \nlink :  https://boston.craigslist.org/gbs/sof/d/boston-data-science-fellowship/7314476107.html \n----->\nJob Title :  Product Management Fellowship \nlocation :  N/A \ndate :  Apr 29 \nlink :  https://boston.craigslist.org/gbs/sof/d/boston-product-management-fellowship/7314475974.html \n----->\nJob Title :  Software Engineering Fellowship \nlocation :  N/A \ndate :  Apr 29 \nlink :  https://boston.craigslist.org/gbs/sof/d/boston-software-engineering-fellowship/7314475787.html \n----->\nJob Title :  Software Engineer \nlocation :  Remote \ndate :  Apr 29 \nlink :  https://boston.craigslist.org/gbs/sof/d/andover-software-engineer/7314306065.html \n----->\nJob Title :  IT Systems Analyst \nlocation :  Beverly \ndate :  Apr 28 \nlink :  https://boston.craigslist.org/nos/sof/d/beverly-it-systems-analyst/7313807037.html \n----->\nJob Title :  Back-End Developer \nlocation :  Cambridge \ndate :  Apr 27 \nlink :  https://boston.craigslist.org/gbs/sof/d/cambridge-back-end-developer/7313681646.html \n----->\nJob Title :  Full Stack Developer \nlocation :  Cambridge \ndate :  Apr 27 \nlink :  https://boston.craigslist.org/gbs/sof/d/cambridge-full-stack-developer/7313678816.html \n----->\nJob Title :  Software Engineer \nlocation :  Remote \ndate :  Apr 27 \nlink :  https://boston.craigslist.org/gbs/sof/d/andover-software-engineer/7313471881.html \n----->\nJob Title :  React/React Native Frontend Developer (Remote, Contract) \nlocation :  N/A \ndate :  Apr 23 \nlink :  https://boston.craigslist.org/gbs/sof/d/cambridge-react-react-native-frontend/7311394620.html \n----->\nJob Title :  Contractor Backend Developer \nlocation :  N/A \ndate :  Apr 23 \nlink :  https://boston.craigslist.org/gbs/sof/d/cambridge-contractor-backend-developer/7311388399.html \n----->\nJob Title :  Software Engineer \nlocation :  Remote \ndate :  Apr 22 \nlink :  https://boston.craigslist.org/gbs/sof/d/andover-software-engineer/7310811124.html \n----->\nJob Title :  Data Science Fellowship \nlocation :  N/A \ndate :  Apr 21 \nlink :  https://boston.craigslist.org/gbs/sof/d/boston-data-science-fellowship/7310495865.html \n----->\nJob Title :  Product Management Fellowship \nlocation :  N/A \ndate :  Apr 21 \nlink :  https://boston.craigslist.org/gbs/sof/d/boston-product-management-fellowship/7310495750.html \n----->\nJob Title :  Software Engineering Fellowship \nlocation :  N/A \ndate :  Apr 21 \nlink :  https://boston.craigslist.org/gbs/sof/d/boston-software-engineering-fellowship/7310495330.html \n----->\nJob Title :  Software Engineer \nlocation :  Remote \ndate :  Apr 20 \nlink :  https://boston.craigslist.org/gbs/sof/d/andover-software-engineer/7309812173.html \n----->\nJob Title :  Sr. Software Engineer \nlocation :  boston: northwest/merrimack \ndate :  Apr 20 \nlink :  https://boston.craigslist.org/nwb/sof/d/burlington-sr-software-engineer/7309680693.html \n----->\nJob Title :  Sr. Software Engineer \nlocation :  boston: northwest/merrimack \ndate :  Apr 19 \nlink :  https://boston.craigslist.org/nwb/sof/d/burlington-sr-software-engineer/7309307166.html \n----->\nJob Title :  Entry Level - Software Developer \nlocation :  N/A \ndate :  Apr 16 \nlink :  https://boston.craigslist.org/gbs/sof/d/mc-lean-entry-level-software-developer/7307802561.html \n----->\nJob Title :  Software Engineer \nlocation :  Remote \ndate :  Apr 15 \nlink :  https://boston.craigslist.org/gbs/sof/d/andover-software-engineer/7307176101.html \n----->\nJob Title :  Best In-Demand IT Skills & Job Training Program \nlocation :  N/A \ndate :  Apr 15 \nlink :  https://boston.craigslist.org/gbs/sof/d/boston-best-in-demand-it-skills-job/7307160187.html \n----->\nJob Title :  Earn $$$ from home - Pixel phone tester \nlocation :  N/A \ndate :  Apr 14 \nlink :  https://boston.craigslist.org/gbs/sof/d/boston-earn-from-home-pixel-phone-tester/7306965829.html \n----->\nJob Title :  print On-site VR Device Testing \nlocation :  Framingham \ndate :  Apr 14 \nlink :  https://boston.craigslist.org/bmw/sof/d/fayville-print-on-site-vr-device-testing/7306846326.html \n----->\nJob Title :  Data Science Fellowship \nlocation :  N/A \ndate :  Apr 14 \nlink :  https://boston.craigslist.org/gbs/sof/d/boston-data-science-fellowship/7306838825.html \n----->\nJob Title :  Product Management Fellowship \nlocation :  N/A \ndate :  Apr 14 \nlink :  https://boston.craigslist.org/gbs/sof/d/boston-product-management-fellowship/7306838714.html \n----->\nJob Title :  Software Engineering Fellowship \nlocation :  N/A \ndate :  Apr 14 \nlink :  https://boston.craigslist.org/gbs/sof/d/boston-software-engineering-fellowship/7306838486.html \n----->\nJob Title :  Certified Encompass Developer/Programmer \nlocation :  Boston \ndate :  Apr 14 \nlink :  https://boston.craigslist.org/gbs/sof/d/boston-certified-encompass-developer/7306790992.html \n----->\nJob Title :  Software Engineer \nlocation :  Remote \ndate :  Apr 13 \nlink :  https://boston.craigslist.org/gbs/sof/d/andover-software-engineer/7306130076.html \n----->\nJob Title :  Xamarine Software Developer \nlocation :  Newton Highlands \ndate :  Apr 13 \nlink :  https://boston.craigslist.org/gbs/sof/d/newton-highlands-xamarine-software/7306093632.html \n----->\nJob Title :  Software Engineer \nlocation :  Remote \ndate :  Apr  8 \nlink :  https://boston.craigslist.org/gbs/sof/d/andover-software-engineer/7303697158.html \n----->\nJob Title :  Software Engineer \nlocation :  Remote \ndate :  Apr  6 \nlink :  https://boston.craigslist.org/gbs/sof/d/andover-software-engineer/7302580375.html \n----->\nJob Title :  On-site VR Device Testing \nlocation :  N/A \ndate :  Apr 14 \nlink :  https://worcester.craigslist.org/sof/d/fayville-on-site-vr-device-testing/7306843883.html \n----->\nJob Title :  Software Engineer - Engineer Interviewer (Contract-Fully Remote!) \nlocation :  N/A \ndate :  Apr 28 \nlink :  https://providence.craigslist.org/sof/d/providence-software-engineer-engineer/7314083206.html \n----->\nJob Title :  Manager or Director, Professional Services \nlocation :  N/A \ndate :  Apr 12 \nlink :  https://providence.craigslist.org/sof/d/mansfield-manager-or-director/7305727506.html \n----->\nJob Title :  Software Engineer \nlocation :  N/A \ndate :  Apr 30 \nlink :  https://capecod.craigslist.org/sof/d/woods-hole-software-engineer/7314741888.html \n----->\nJob Title :  Apprenticeship Software Developer - Recent High School Graduates Only \nlocation :  N/A \ndate :  Apr 21 \nlink :  https://hartford.craigslist.org/sof/d/hartford-apprenticeship-software/7310382091.html \n----->\n"
     ]
    }
   ],
   "source": [
    "for job in jobs:\n",
    "    title = job.find('a',{'class':'result-title'}).text\n",
    "    date  = job.find('time',{'class':'result-date'}).text\n",
    "    job_location = job.find('span',{'class':'result-hood'})\n",
    "    location = job_location.text[2:-1] if job_location else \"N/A\"\n",
    "    link = job.find('a',{'class':'result-title'}).get('href')\n",
    "    print('Job Title : ',title,'\\nlocation : ',location,'\\ndate : ',date,'\\nlink : ',link,'\\n----->')"
   ]
  },
  {
   "cell_type": "code",
   "execution_count": 52,
   "metadata": {
    "tags": [
     "outputPrepend"
    ]
   },
   "outputs": [
    {
     "output_type": "stream",
     "name": "stdout",
     "text": [
      "ce, including scheduling\n",
      "and routing, sales and inventory transaction processing, remote data acquisition from automated and\n",
      "unattended points of sale, service call tracking.\n",
      "DUTIES/RESPONSIBILITIES:\n",
      " Design, develop, test, and maintain mobile applications for iOS and Android on the Xamarin\n",
      "platform\n",
      " Diagnose complex issues, evaluate, and recommend/execute the best resolution\n",
      " Influence system design by identifying and recommending design and requirement needs for\n",
      "software\n",
      " Write code that meets the production requirements and design specifications\n",
      " Implement manual and automated testing for the mobile application development process\n",
      " Participate in design reviews to provide a technical perspective on implementation\n",
      " Able to perform research of Third-party tools and undertake implementation of them\n",
      " Be able to comprehend, analyze and communicate Business requirements and issues arising\n",
      "from existing published implementations\n",
      " Publishing app to testing environments and app stores.\n",
      "SKILLS/EXPERIENCE:\n",
      " Bachelor’s in computer science, Computer Systems Engineering or a similar engineering\n",
      "discipline.\n",
      " 2-5 years of Full Stack experience in Software Development with Xamarin and associated\n",
      "Microsoft development tools and environment\n",
      " Proven delivery experience with Xamarin, C# .NET and SQL, as well as ASP, MVVC, WCF,\n",
      "REST. Significant SQL server experience including schema development, query analysis\n",
      "and optimization.  Visual Studio and Infragistics.\n",
      " Knowledge and expertise with Bluetooth and general wireless communication protocols\n",
      "This is a hands-on software development role with opportunity to grow and take on enhanced\n",
      "responsibilities for the development and direction of the product.\n",
      "The company name is Synectic Software Solutions. Web site is http://www.synecticssi.com/\n",
      "The product is here: http://www.vendsys.com/\n",
      "Synectic Software Solutions is a subsidiary of the Nayax company: https://www.nayax.com/about-\n",
      "nayax/     \n",
      "attributes :  \n",
      "compensation: based on candidate's experience\n",
      "\n",
      "employment type: full-time\n",
      "\n",
      " \n",
      "----->\n",
      "Job Title :  Software Engineer \n",
      "location :  Remote \n",
      "date :  Apr  8 \n",
      "link :  https://boston.craigslist.org/gbs/sof/d/andover-software-engineer/7303697158.html \n",
      "description :  \n",
      "\n",
      "QR Code Link to This Post\n",
      "\n",
      "\n",
      "\n",
      "Join Hired and find your dream job as a Software Engineer at one of 10,000+ companies looking for candidates just like you.\n",
      "This is a role that fuses both creative and practical concerns, as these engineers are responsible for everything the website user encounters, including scrolling functions and graphics, as well as creating the logic, database interactions and server configuration on the application's backend.\n",
      "\n",
      "Responsibilities Include:\n",
      "\n",
      "The development and maintenance of client-side and server-side applications.\n",
      "Working with other web developers as well as marketing teams and engineers to ensure the right look and necessary features are included in your work.\n",
      "Designing tests that will be implemented to keep software functional.\n",
      "Stay on top of expanding technologies and engineering trends.\n",
      "\n",
      "\n",
      "\n",
      "Companies on Hired apply to you, not the other way around. You'll receive salary and compensation details upfront - before the interview - and be able to choose from a variety of industries you're interested in, to find a job You'll love in less than 2 weeks.\n",
      "To Learn More and Apply: Click Here  \n",
      "attributes :  \n",
      "compensation: To Be Discussed\n",
      "\n",
      "employment type: full-time\n",
      "\n",
      " \n",
      "----->\n",
      "Job Title :  Software Engineer \n",
      "location :  Remote \n",
      "date :  Apr  6 \n",
      "link :  https://boston.craigslist.org/gbs/sof/d/andover-software-engineer/7302580375.html \n",
      "description :  \n",
      "\n",
      "QR Code Link to This Post\n",
      "\n",
      "\n",
      "\n",
      "Join Hired and find your dream job as a Software Engineer at one of 10,000+ companies looking for candidates just like you.\n",
      "This is a role that fuses both creative and practical concerns, as these engineers are responsible for everything the website user encounters, including scrolling functions and graphics, as well as creating the logic, database interactions and server configuration on the application's backend.\n",
      "\n",
      "Responsibilities Include:\n",
      "\n",
      "The development and maintenance of client-side and server-side applications.\n",
      "Working with other web developers as well as marketing teams and engineers to ensure the right look and necessary features are included in your work.\n",
      "Designing tests that will be implemented to keep software functional.\n",
      "Stay on top of expanding technologies and engineering trends.\n",
      "\n",
      "\n",
      "\n",
      "Companies on Hired apply to you, not the other way around. You'll receive salary and compensation details upfront - before the interview - and be able to choose from a variety of industries you're interested in, to find a job You'll love in less than 2 weeks.\n",
      "To Learn More and Apply: Click Here  \n",
      "attributes :  \n",
      "compensation: To Be Discussed\n",
      "\n",
      "employment type: full-time\n",
      "\n",
      " \n",
      "----->\n",
      "Job Title :  On-site VR Device Testing \n",
      "location :  N/A \n",
      "date :  Apr 14 \n",
      "link :  https://worcester.craigslist.org/sof/d/fayville-on-site-vr-device-testing/7306843883.html \n",
      "description :  \n",
      "\n",
      "QR Code Link to This Post\n",
      "\n",
      "\n",
      "We are looking for people located in or near Framingham, MA to participate in an eye and face tracking testing project. The goal of the project is to capture participants making various face and eye movements wearing a head-mounted device.\n",
      "\n",
      "Project Details:\n",
      "- Testing will take about 3 hours. The payout for the project is $150.\n",
      "- This project is currently active and ongoing.\n",
      "- All testing will be done on-site in Framingham, MA.\n",
      "\n",
      "Be assured we will be taking all necessary and locally mandated safety precautions to ensure the health and well-being of our on-site testers as this testing occurs.\n",
      "\n",
      "To sign up for this opportunity, please use this link: https://www.utest.com/signup/framingham-eye-movement?utm_campaign=PS2051-worc-job&utm_medium=landing-page&utm_source=craigslist&utm_content=&utm_term=  \n",
      "attributes :  \n",
      "compensation: $150\n",
      "\n",
      "employment type: part-time\n",
      "\n",
      " \n",
      "----->\n",
      "Job Title :  Software Engineer - Engineer Interviewer (Contract-Fully Remote!) \n",
      "location :  N/A \n",
      "date :  Apr 28 \n",
      "link :  https://providence.craigslist.org/sof/d/providence-software-engineer-engineer/7314083206.html \n",
      "description :  \n",
      "\n",
      "QR Code Link to This Post\n",
      "\n",
      "\n",
      "Interviewing is a universal experience, but it is no one’s job.\n",
      "\n",
      "Interviews are the gateway between people and jobs — they are a critical connection point. And yet, while the interview is a universal experience, it has never been recognized as its own discipline. In fact, the \n",
      "vast majority of people conducting interviews receive no formal training in how to do so.\n",
      "\n",
      "Karat is the market leader in Interview Engineering.\n",
      "\n",
      "At Karat, our mission is to make every interview predictive, fair, and enjoyable. To do so, we created and established the category of Interview Engineering.\n",
      "\n",
      "Founded in 2014, Karat is a privately held and venture-funded company based in Seattle. Key clients include Pinterest, PayPal, Citrix, Intuit, and InVision.\n",
      "\n",
      "Interview Engineering at Karat\n",
      "\n",
      "Karat Interview Engineers are a community of experienced software developers who are equipped with best practices and technology needed to provide the most predictive, fair, and enjoyable interviews to software engineering job candidates. Interview Engineers include software development managers, software engineers, and freelancers covering the full technology stack. As an Interview Engineer, you will interview job candidates using the Karat approach and interviewing infrastructure in a wide variety of roles on behalf of leading companies worldwide.\n",
      "\n",
      "Flexible, high impact work that is compensated at highly competitive rates.\n",
      "\n",
      "As an Interview Engineer, you will be compensated at highly competitive rates for your interviewing expertise.  The time commitment is flexible — many of our interviews happen on nights and weekends.  Some Interview Engineers do 5-10 interviews/week while others do over 25 interviews/week.  You can work from anywhere, anytime.  You will sharpen your interviewing skills and transform the interviewing experience for every candidate and company.\n",
      "\n",
      "About You\n",
      "\n",
      "Experienced software engineer with 5+ years of hands-on coding experience\n",
      "Extensive interviewing experience focused on:\n",
      " \n",
      "evaluating fundamental computer science skills (i.e. data structures, algorithms etc.)\n",
      "software craftsmanship (i.e. understanding of unit testing\n",
      "source control, APIs etc.)\n",
      "specific technologies (i.e. iOS, distributed systems etc.)\n",
      "\n",
      "You believe that interviewing is a first-class job\n",
      "Strong oral and written communication skills\n",
      "Able to empathize with candidates and provide actionable feedback\n",
      "\n",
      "\n",
      "If interested in becoming an Interview Engineer, please submit your resume and complete our application on our careers site. We look forward to connecting with you!\n",
      "  \n",
      "attributes :  \n",
      "compensation: Flat fee per interview conducted\n",
      "\n",
      "employment type: contract\n",
      "\n",
      " \n",
      "----->\n",
      "Job Title :  Manager or Director, Professional Services \n",
      "location :  N/A \n",
      "date :  Apr 12 \n",
      "link :  https://providence.craigslist.org/sof/d/mansfield-manager-or-director/7305727506.html \n",
      "description :  \n",
      "\n",
      "QR Code Link to This Post\n",
      "\n",
      "\n",
      "Manager or Director, Professional Services - Mansfield, MA - $160K                        Established in 2005, this major ERP partner is an industry leading provider of Enterprise Content Management Software. They are currently seeking a strong Manager or Director level of Professional Services. YOUR CAREER GOALSTo lead a growing professional services department while setting the standard for excellence behind best practices, strong documentation, and complex software implementations for customers. To oversee a team that operates under a billable utilization model where you have a direct impact on the organization's revenue and success.YOUR AMAZING QUALITIESYou're passionate about professional services and bringing strong documentation to an organization. You recognize process or programming inefficiencies and can recommend improvements in a heartbeat. You have a B.S. degree or higher in Computer Science, Information Technology & Services, Software Engineering, or a related field, and at least 5 years of professional experience.KEY RESPONSIBILITIESManage and motivate a Professional Services department staff of up to 10 team membersManage the write-up and editing of all customer project paperwork including solution designs, work orders and statements of workManage and maintain 65-75% billable utilization (hours and revenue)Maintain and improve usage of PS Automation tools including Mavenlink and SmartsheetDocumenting and Leading continuous improvement efforts for processes and implementation best practicesManage the targeted Professional Services revenueManage forecasting and budgeting within the departmentEstablishing and maintain relationships with customer executive sponsors and project teamsAnd if you've got knowledge or experience in:Enterprise Content Management (ECM)ERP Software...those are certainly pluses!You must also be able to thrive in a fast-paced, deadline-driven environment. Leadership ability and excellent interpersonal & communication skills here are absolutely essential.IN EXCHANGE FOR YOUR HARD WORKWe offer you:A comprehensive health & medical benefits packageGenerous PTO401(k) planGreat office perks and Remote FlexibilityCompany fun through social events & partiesCareer development & advancement opportunitiesAnd much more!Find Us on Facebook!Follow Us on Twitter!Beacon Hill is an Equal Opportunity Employer that values the strength diversity brings to the workplace. Individuals with Disabilities and Protected Veterans are encouraged to apply.Company Profile:Beacon Hill Technologies, a premier National Information Technology Staffing Group, provides world class technology talent across all industries utilizing a complete suite of staffing services.  Beacon Hill Technologies' dedicated team of recruiting and staffing experts consistently delivers quality IT professionals to solve our customers' technical and business needs. Beacon Hill Technologies covers a broad spectrum of IT positions, including Project Management and Business Analysis, Programming/Development, Database, Infrastructure, Quality Assurance, Production/Support and ERP roles.Learn more about Beacon Hill Staffing Group and our specialty divisions, Beacon Hill Associates, Beacon Hill Financial, Beacon Hill HR, Beacon Hill Legal, Beacon Hill Life Sciences and Beacon Hill Technologies by visiting www.beaconhillstaffing.com. We look forward to working with you.Beacon Hill. Employing the Future  \n",
      "attributes :  \n",
      "compensation: $130000 - $160000 per year\n",
      "\n",
      "employment type: full-time\n",
      "\n",
      " \n",
      "----->\n",
      "Job Title :  Software Engineer \n",
      "location :  N/A \n",
      "date :  Apr 30 \n",
      "link :  https://capecod.craigslist.org/sof/d/woods-hole-software-engineer/7314741888.html \n",
      "description :  \n",
      "\n",
      "QR Code Link to This Post\n",
      "\n",
      "\n",
      "Background\n",
      "The Northeast Fisheries Science Center has conducted a comprehensive marine science program in the region since 1871. We study fishery species and fisheries, monitor and model ocean ecosystems, and provide reliable advice for policy makers. Our work promotes recovery and long-term sustainability of marine life in the region, supports both wild and cultured seafood harvests, helps sustain coastal communities, and generates economic opportunities and benefits from the use of these resources.\n",
      "\n",
      "ERT is seeking an Applications Developer to support NEFSC’s IT Division (in Woods Hole, MA). NEFSC provides overall management and direction for its five laboratories located from Orono, Maine, to Sandy Hook, New Jersey. Center operations and information technology are also managed from this location.\n",
      "\n",
      "Position Description\n",
      "Provides lifecycle support of applications and ensure compliance of NEFSC baseline policies and procedures and data standards and governance.\n",
      "Possesses a broad knowledge of platform and operating systems, programming languages, software system design, and requirements analysis.\n",
      "Designs, codes, tests, and debugs new software or makes enhancements to existing software. Prepares comprehensive test plans and recommends corrections.\n",
      "Identifies and debugs moderately complex problems.\n",
      "Resolves customer complaints with software and responds to suggestions for improvement and enhancements.\n",
      "Performance monitoring, incident and problem management, change and configuration management, and service level performance.\n",
      "Provides application support functionality which includes:\n",
      "Responding to technical inquiries\n",
      "Software rationalization and lifecycle management\n",
      "Performing routine monitoring and audits of systems\n",
      "Application maintenance and troubleshooting\n",
      "Coordinate and implement application patches, upgrades, and configuration changes\n",
      "Application monitoring and performance tuning\n",
      "Business continuity, disaster recovery planning and testing, and configuration documentation \n",
      "Analyze system and audit logs and identify potential issues\n",
      "Responsible for server builds, security, and transition from development, test, and production.\n",
      "Maintain all code using subversion or NEFSC standard.\n",
      "Utilizes Agile Development in cooperation with project team members and participates in daily Scrum and bi-weekly Sprint close/open.\n",
      "Coordinates with all Federal and contract employees where necessary to communicate application development impacts on baseline infrastructure systems governed by the CCB, and other entities that manage changes to the overall NEFSC IT infrastructure.\n",
      "Work in concurrence with IT Security Officer (ITSO) to maintain and implement Operating and Database Application Systems Support Services security. \n",
      "Maintain the documented NEFSC standard code library. Provides codes enhancements and support features.\n",
      "Create and maintain Systems and User documentation for all developed applications.\n",
      "Participates in the development of software user manuals and documentation. Deliver and maintain Standard Operating Procedures (SOP) library in the areas of application development.\n",
      "Require comprehensive and proficient knowledge of one or more platforms and operating systems, and of programming language.\n",
      "Requires knowledge of one or more systems architectures.\n",
      "Familiar with standard concepts, practices, and procedures within a particular field.\n",
      "Relies on experience and judgment to plan and accomplish goals.\n",
      "\n",
      "Required\n",
      "Minimum of 4 years of experience in application development or software engineering\n",
      "Agile Development experience or similar methodology desired\n",
      "Possess excellent written and oral communication skills.\n",
      "Detail oriented and organized with strong analytical skills.\n",
      "Demonstrated success working in a team environment that includes flexibility working with a team in an organization that is dispersed; coordinating with the work of others; facilitating interactions among team members with diverse skill sets.\n",
      "Must be able to pass a background investigation to obtain a security badge to enter the applicable government facility.\n",
      "\n",
      "Preferred\n",
      "\n",
      "CompTIA A+ Certified preferred.\n",
      "Preferred programming languages include C++, C# .Net, PHP, Java, JavaScript, HTML, and Python.\n",
      "Education\n",
      "\n",
      "BS/BA degree in computer science or related fields\n",
      "\n",
      "Submit resume to ERT’s Career Opportunities Web Page at: https://phh.tbe.taleo.net/phh04/ats/careers/v2/viewRequisition?org=ERT&cws=49&rid=2606 \n",
      "\n",
      "Earth Resources Technology, Inc. (ERT)\n",
      "ERT is a VEVRAA Federal Contractor and Equal Opportunity/Affirmative Action employer - All qualified applicants will be considered for employment without regard to race, color, religion, sex, national origin, disability, or protected Veteran status.\n",
      " \n",
      "attributes :  \n",
      "compensation: Salary\n",
      "\n",
      "employment type: full-time\n",
      "\n",
      "telecommuting ok\n",
      "\n",
      " \n",
      "----->\n",
      "Job Title :  Apprenticeship Software Developer - Recent High School Graduates Only \n",
      "location :  N/A \n",
      "date :  Apr 21 \n",
      "link :  https://hartford.craigslist.org/sof/d/hartford-apprenticeship-software/7310382091.html \n",
      "description :  \n",
      "\n",
      "QR Code Link to This Post\n",
      "\n",
      "\n",
      "Job Description:\n",
      "\n",
      "Woz Enterprise has an excellent apprenticeship opportunity for (Recent High School Graduates Only) looking to start or advance their career in technology with one of our prominent clients. Our client is an industry leader in technology services and consulting, providing you a great opportunity to get immediate training and work experience.\n",
      "\n",
      "Selected applicants will go through a training program that teaches them to design, create, and deliver stable and scalable software systems using modern technologies and concepts. Selected applicants will learn the foundational skills of computer science along with modern web and app development tools.\n",
      "\n",
      "What careers are we hiring for?\n",
      "\n",
      "Java Software Developer\n",
      "How the program works:\n",
      "\n",
      "Woz Enterprise apprenticeship program will select individuals who meet the entry qualifications, as noted above\n",
      "You will receive in-depth training for 12 weeks depending on your technical track\n",
      "You will work on projects while in training gaining real world experience\n",
      "Once your training is completed, you will interview with client company for direct hire and, if selected, you will be provided with an offer of employment along with your assigned work location\n",
      "Join us and be part of the next generation of Tech!\n",
      "\n",
      "Interviews are starting now!\n",
      "\n",
      "Requirements\n",
      "What We Are Looking For:\n",
      "\n",
      "Maximum: High School Diploma or GED (Must have graduated within the last 5 years)\n",
      "Associates, Bachelors, Masters and Doctorate candidates do NOT qualify, we have a separate opportunity directly on our website for those with a post-secondary education\n",
      "Work Experience:\n",
      "Minimum: 6+ month of work experience\n",
      "Must be authorized to work in the U.S. (U.S. Citizen or Green Card holder)\n",
      "Strong desire to learn tech skills like coding, data analysis, networking\n",
      "Great communication skills, experience working directly with customers and clients.\n",
      "Ability to thrive in a remote learning environment.\n",
      "A natural problem solver\n",
      "Willing to relocate to client location within continental U.S.     \n",
      "attributes :  \n",
      "compensation: $35,000k+ after training\n",
      "\n",
      "employment type: full-time\n",
      "\n",
      " \n",
      "----->\n"
     ]
    }
   ],
   "source": [
    "for job in jobs:\n",
    "    title = job.find('a',{'class':'result-title'}).text\n",
    "    date  = job.find('time',{'class':'result-date'}).text\n",
    "    job_location = job.find('span',{'class':'result-hood'})\n",
    "    location = job_location.text[2:-1] if job_location else \"N/A\"\n",
    "    link = job.find('a',{'class':'result-title'}).get('href')\n",
    "    job_response = requests.get(link)\n",
    "    job_data = job_response.text\n",
    "    job_soup = BeautifulSoup(job_data,'html.parser')\n",
    "    job_description = job_soup.find('section',{'id':'postingbody'}).text\n",
    "    job_attributes_tag = job_soup.find('p',{'class':'attrgroup'})\n",
    "    job_attributes = job_attributes_tag.text if job_attributes_tag else \"N/A\"\n",
    "    print('Job Title : ',title,'\\nlocation : ',location,'\\ndate : ',date,'\\nlink : ',link,'\\ndescription : ',job_description,'\\nattributes : ',job_attributes,'\\n----->')"
   ]
  },
  {
   "cell_type": "code",
   "execution_count": 54,
   "metadata": {
    "tags": []
   },
   "outputs": [
    {
     "output_type": "stream",
     "name": "stdout",
     "text": [
      "Total Jobs :  36\n"
     ]
    }
   ],
   "source": [
    "## Read page if pagination is included\n",
    "sof_jobs = {}\n",
    "job_count = 0\n",
    "while True:\n",
    "    response = requests.get(url)\n",
    "    data = response.text\n",
    "    soup =  BeautifulSoup(data,'html.parser')\n",
    "    jobs = soup.find_all('div',{'class':'result-info'})\n",
    "\n",
    "    for job in jobs:\n",
    "        title = job.find('a',{'class':'result-title'}).text\n",
    "        date  = job.find('time',{'class':'result-date'}).text\n",
    "        job_location = job.find('span',{'class':'result-hood'})\n",
    "        location = job_location.text[2:-1] if job_location else \"N/A\"\n",
    "        link = job.find('a',{'class':'result-title'}).get('href')\n",
    "        job_response = requests.get(link)\n",
    "        job_data = job_response.text\n",
    "        job_soup = BeautifulSoup(job_data,'html.parser')\n",
    "        job_description = job_soup.find('section',{'id':'postingbody'}).text\n",
    "        job_attributes_tag = job_soup.find('p',{'class':'attrgroup'})\n",
    "        job_attributes = job_attributes_tag.text if job_attributes_tag else \"N/A\"\n",
    "        job_count += 1\n",
    "        sof_jobs[job_count] = [title,location,date,link,job_attributes,job_description]\n",
    "        # print('Job Title : ',title,'\\nlocation : ',location,'\\ndate : ',date,'\\nlink : ',link,'\\ndescription : ',job_description,'\\nattributes : ',job_attributes,'\\n----->')\n",
    "\n",
    "    url_tag = soup.find('a',{'title':'next page'})\n",
    "    if url_tag.get('href'):\n",
    "        url = \"https://boston.craigslist.org\" + url_tag.get('href')\n",
    "        print(url)\n",
    "    else:\n",
    "        break\n",
    "print(\"Total Jobs : \" , job_count)\n",
    "sof_jobs_df = pd.DataFrame.from_dict(sof_jobs,orient='index',columns=['Job Title','Location','Date','Link','Job Attributes','Job Description'])\n"
   ]
  },
  {
   "cell_type": "code",
   "execution_count": 55,
   "metadata": {},
   "outputs": [
    {
     "output_type": "execute_result",
     "data": {
      "text/plain": [
       "                         Job Title Location    Date  \\\n",
       "1                Software Engineer      N/A  May  5   \n",
       "2          Data Science Fellowship      N/A  Apr 29   \n",
       "3    Product Management Fellowship      N/A  Apr 29   \n",
       "4  Software Engineering Fellowship      N/A  Apr 29   \n",
       "5                Software Engineer   Remote  Apr 29   \n",
       "\n",
       "                                                Link  \\\n",
       "1  https://boston.craigslist.org/gbs/sof/d/andove...   \n",
       "2  https://boston.craigslist.org/gbs/sof/d/boston...   \n",
       "3  https://boston.craigslist.org/gbs/sof/d/boston...   \n",
       "4  https://boston.craigslist.org/gbs/sof/d/boston...   \n",
       "5  https://boston.craigslist.org/gbs/sof/d/andove...   \n",
       "\n",
       "                                      Job Attributes  \\\n",
       "1  \\ncompensation: To Be Discussed\\n\\nemployment ...   \n",
       "2  \\ncompensation: 80,000-160,000\\n\\nemployment t...   \n",
       "3  \\ncompensation: 80,000-160,000\\n\\nemployment t...   \n",
       "4  \\ncompensation: 80,000-160,000\\n\\nemployment t...   \n",
       "5  \\ncompensation: To Be Discussed\\n\\nemployment ...   \n",
       "\n",
       "                                     Job Description  \n",
       "1  \\n\\nQR Code Link to This Post\\n\\n\\n\\nJoin Hire...  \n",
       "2  \\n\\nQR Code Link to This Post\\n\\n\\nWhat is Pat...  \n",
       "3  \\n\\nQR Code Link to This Post\\n\\n\\nWhat is Pat...  \n",
       "4  \\n\\nQR Code Link to This Post\\n\\n\\nWhat is Pat...  \n",
       "5  \\n\\nQR Code Link to This Post\\n\\n\\n\\nJoin Hire...  "
      ],
      "text/html": "<div>\n<style scoped>\n    .dataframe tbody tr th:only-of-type {\n        vertical-align: middle;\n    }\n\n    .dataframe tbody tr th {\n        vertical-align: top;\n    }\n\n    .dataframe thead th {\n        text-align: right;\n    }\n</style>\n<table border=\"1\" class=\"dataframe\">\n  <thead>\n    <tr style=\"text-align: right;\">\n      <th></th>\n      <th>Job Title</th>\n      <th>Location</th>\n      <th>Date</th>\n      <th>Link</th>\n      <th>Job Attributes</th>\n      <th>Job Description</th>\n    </tr>\n  </thead>\n  <tbody>\n    <tr>\n      <th>1</th>\n      <td>Software Engineer</td>\n      <td>N/A</td>\n      <td>May  5</td>\n      <td>https://boston.craigslist.org/gbs/sof/d/andove...</td>\n      <td>\\ncompensation: To Be Discussed\\n\\nemployment ...</td>\n      <td>\\n\\nQR Code Link to This Post\\n\\n\\n\\nJoin Hire...</td>\n    </tr>\n    <tr>\n      <th>2</th>\n      <td>Data Science Fellowship</td>\n      <td>N/A</td>\n      <td>Apr 29</td>\n      <td>https://boston.craigslist.org/gbs/sof/d/boston...</td>\n      <td>\\ncompensation: 80,000-160,000\\n\\nemployment t...</td>\n      <td>\\n\\nQR Code Link to This Post\\n\\n\\nWhat is Pat...</td>\n    </tr>\n    <tr>\n      <th>3</th>\n      <td>Product Management Fellowship</td>\n      <td>N/A</td>\n      <td>Apr 29</td>\n      <td>https://boston.craigslist.org/gbs/sof/d/boston...</td>\n      <td>\\ncompensation: 80,000-160,000\\n\\nemployment t...</td>\n      <td>\\n\\nQR Code Link to This Post\\n\\n\\nWhat is Pat...</td>\n    </tr>\n    <tr>\n      <th>4</th>\n      <td>Software Engineering Fellowship</td>\n      <td>N/A</td>\n      <td>Apr 29</td>\n      <td>https://boston.craigslist.org/gbs/sof/d/boston...</td>\n      <td>\\ncompensation: 80,000-160,000\\n\\nemployment t...</td>\n      <td>\\n\\nQR Code Link to This Post\\n\\n\\nWhat is Pat...</td>\n    </tr>\n    <tr>\n      <th>5</th>\n      <td>Software Engineer</td>\n      <td>Remote</td>\n      <td>Apr 29</td>\n      <td>https://boston.craigslist.org/gbs/sof/d/andove...</td>\n      <td>\\ncompensation: To Be Discussed\\n\\nemployment ...</td>\n      <td>\\n\\nQR Code Link to This Post\\n\\n\\n\\nJoin Hire...</td>\n    </tr>\n  </tbody>\n</table>\n</div>"
     },
     "metadata": {},
     "execution_count": 55
    }
   ],
   "source": [
    "sof_jobs_df.head()"
   ]
  },
  {
   "cell_type": "code",
   "execution_count": 56,
   "metadata": {},
   "outputs": [],
   "source": [
    "sof_jobs_df.to_csv('sfo_jobs.csv')"
   ]
  },
  {
   "cell_type": "code",
   "execution_count": null,
   "metadata": {},
   "outputs": [],
   "source": []
  }
 ]
}