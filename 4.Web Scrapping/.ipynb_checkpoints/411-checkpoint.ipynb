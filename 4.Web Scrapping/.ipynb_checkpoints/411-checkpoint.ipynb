{
 "cells": [
  {
   "cell_type": "code",
   "execution_count": 1,
   "metadata": {},
   "outputs": [],
   "source": [
    "import bs4\n",
    "import requests\n",
    "from bs4 import BeautifulSoup\n",
    "import pandas as pd\n"
   ]
  },
  {
   "cell_type": "code",
   "execution_count": 2,
   "metadata": {},
   "outputs": [],
   "source": [
    "user = 'novel'\n",
    "cap_user = user.title()\n",
    "location = ''"
   ]
  },
  {
   "cell_type": "code",
   "execution_count": 3,
   "metadata": {},
   "outputs": [],
   "source": [
    "url = \"https://www.411.com/name/{}?fs=1&searchedName={}&searchedLocation={}\".format(user,cap_user,location)"
   ]
  },
  {
   "cell_type": "code",
   "execution_count": 4,
   "metadata": {},
   "outputs": [
    {
     "data": {
      "text/plain": [
       "'https://www.411.com/name/novel?fs=1&searchedName=Novel&searchedLocation='"
      ]
     },
     "execution_count": 4,
     "metadata": {},
     "output_type": "execute_result"
    }
   ],
   "source": [
    "url"
   ]
  },
  {
   "cell_type": "code",
   "execution_count": 5,
   "metadata": {},
   "outputs": [],
   "source": [
    "headers = {'User-Agent': 'Mozilla/5.0 (Macintosh; Intel Mac OS X 10_11_5) AppleWebKit/537.36 (KHTML, like Gecko) Chrome/50.0.2661.102 Safari/537.36'}"
   ]
  },
  {
   "cell_type": "code",
   "execution_count": 6,
   "metadata": {},
   "outputs": [],
   "source": [
    "result = requests.get(url, headers=headers)"
   ]
  },
  {
   "cell_type": "code",
   "execution_count": 7,
   "metadata": {
    "tags": []
   },
   "outputs": [],
   "source": [
    "data = result.content.decode()"
   ]
  },
  {
   "cell_type": "code",
   "execution_count": 8,
   "metadata": {},
   "outputs": [],
   "source": [
    "soup = BeautifulSoup(data,'html.parser')"
   ]
  },
  {
   "cell_type": "code",
   "execution_count": 9,
   "metadata": {},
   "outputs": [],
   "source": [
    "all_divs = soup.find_all('div',{'class':'pb-2'})"
   ]
  },
  {
   "cell_type": "code",
   "execution_count": 22,
   "metadata": {
    "tags": []
   },
   "outputs": [
    {
     "name": "stdout",
     "output_type": "stream",
     "text": [
      "Mariana Novel \n",
      "                  Bronx, NY\n",
      "                 \n",
      "                  50s\n",
      "                   \n",
      "          (718) 231-0784\n",
      "         \n",
      "              1407 Oakley St\n",
      "              Bronx, NY 10469\n",
      "            \n",
      "\n",
      "\n",
      "John Novel \n",
      "                  Erie, PA\n",
      "                 \n",
      "                  70s\n",
      "                   \n",
      "          (814) 871-2172\n",
      "         \n",
      "              758 E 8th St\n",
      "              Erie, PA 16503\n",
      "            \n",
      "\n",
      "\n",
      "R Novel \n",
      "                  Clinton, IN\n",
      "                 \n",
      "                  70s\n",
      "                   \n",
      "          (765) 832-8705\n",
      "         \n",
      "              14844 S 7th Ave\n",
      "              Clinton, IN 47842\n",
      "            \n",
      "\n",
      "\n",
      "Craig R Novel \n",
      "                  Snohomish, WA\n",
      "                 \n",
      "                  50s\n",
      "                   \n",
      "          (425) 821-3546\n",
      "         \n",
      "              18909 State Route 9 SE # 9\n",
      "              Snohomish, WA 98296\n",
      "            \n",
      "\n",
      "\n",
      "Theresa E Novel \n",
      "                  Rockville, MD\n",
      "                 \n",
      "                  60s\n",
      "                   \n",
      "          (301) 208-2789\n",
      "         \n",
      "              10028 Sterling Ter\n",
      "              Rockville, MD 20850\n",
      "            \n",
      "\n",
      "\n",
      "Daniel R Novel \n",
      "                  Shenandoah, VA\n",
      "                 \n",
      "                  30s\n",
      "                   \n",
      "          No previous locations found.\n",
      "         \n",
      "              283 Rocking Page Ln\n",
      "              Shenandoah, VA 22849\n",
      "            \n",
      "\n",
      "\n",
      "Luisa D Novel \n",
      "                  Bronx, NY\n",
      "                 \n",
      "                  40s\n",
      "                   \n",
      "          (718) 466-5133\n",
      "         \n",
      "              636 E 224th St Apt 1C\n",
      "              Bronx, NY 10466\n",
      "            \n",
      "\n",
      "\n",
      "Frank Novel \n",
      "                  Erie, PA\n",
      "                 \n",
      "                  60s\n",
      "                   \n",
      "          (814) 874-3015\n",
      "         \n",
      "              12 E 9th St Apt 210\n",
      "              Erie, PA 16501\n",
      "            \n",
      "\n",
      "\n",
      "Brian E Novel \n",
      "                  Troy, MO\n",
      "                 \n",
      "                  40s\n",
      "                   \n",
      "          (636) 673-2560\n",
      "         \n",
      "              231 Sydnorville Rd\n",
      "              Troy, MO 63379\n",
      "            \n",
      "\n",
      "\n",
      "Kathleen Novel \n",
      "                  Lawrence, MA\n",
      "                 \n",
      "                  40s\n",
      "                   \n",
      "          (978) 686-7185\n",
      "         \n",
      "              102 Beacon St\n",
      "              Lawrence, MA 01843\n",
      "            \n",
      "\n",
      "\n",
      "Edward R Novel \n",
      "                  Centerville, PA\n",
      "                 \n",
      "                  80+\n",
      "                   \n",
      "          (814) 774-8366\n",
      "         \n",
      "              37771 State Highway 77\n",
      "              Centerville, PA 16404\n",
      "            \n",
      "\n",
      "\n",
      "Julianna J Novel \n",
      "                  Sandusky, OH\n",
      "                 \n",
      "                  40s\n",
      "                   \n",
      "          (864) 379-8030\n",
      "         \n",
      "              4610 Bayshore Rd\n",
      "              Sandusky, OH 44870\n",
      "            \n",
      "\n",
      "\n",
      "Patrick J Novel \n",
      "                  Erie, PA\n",
      "                 \n",
      "                  50s\n",
      "                   \n",
      "          (814) 825-2599\n",
      "         \n",
      "              3823 Davison Ave\n",
      "              Erie, PA 16504\n",
      "            \n",
      "\n",
      "\n",
      "Janet L Novel \n",
      "                  West Farmington, OH\n",
      "                 \n",
      "                  50s\n",
      "                   \n",
      "          (330) 889-6249\n",
      "         \n",
      "              6116 Oak Hill Dr\n",
      "              West Farmington, OH 44491\n",
      "            \n",
      "\n",
      "\n",
      "Jayme Lee Novel \n",
      "                  New Martinsville, WV\n",
      "                 \n",
      "                  30s\n",
      "                   \n",
      "              Loveland, CO\n",
      "            \n",
      "              Black Hawk, CO\n",
      "             \n",
      "              1022 3rd St\n",
      "              New Martinsville, WV 26155\n",
      "            \n",
      "\n",
      "\n",
      "{1: ['Mariana Novel', '\\n                  Bronx, NY\\n                ', '\\n                  50s\\n                  ', '\\n          (718) 231-0784\\n        ', '\\n              1407 Oakley St\\n              Bronx, NY 10469\\n            '], 2: ['John Novel', '\\n                  Erie, PA\\n                ', '\\n                  70s\\n                  ', '\\n          (814) 871-2172\\n        ', '\\n              758 E 8th St\\n              Erie, PA 16503\\n            '], 3: ['R Novel', '\\n                  Clinton, IN\\n                ', '\\n                  70s\\n                  ', '\\n          (765) 832-8705\\n        ', '\\n              14844 S 7th Ave\\n              Clinton, IN 47842\\n            '], 4: ['Craig R Novel', '\\n                  Snohomish, WA\\n                ', '\\n                  50s\\n                  ', '\\n          (425) 821-3546\\n        ', '\\n              18909 State Route 9 SE # 9\\n              Snohomish, WA 98296\\n            '], 5: ['Theresa E Novel', '\\n                  Rockville, MD\\n                ', '\\n                  60s\\n                  ', '\\n          (301) 208-2789\\n        ', '\\n              10028 Sterling Ter\\n              Rockville, MD 20850\\n            '], 6: ['Daniel R Novel', '\\n                  Shenandoah, VA\\n                ', '\\n                  30s\\n                  ', '\\n          No previous locations found.\\n        ', '\\n              283 Rocking Page Ln\\n              Shenandoah, VA 22849\\n            '], 7: ['Luisa D Novel', '\\n                  Bronx, NY\\n                ', '\\n                  40s\\n                  ', '\\n          (718) 466-5133\\n        ', '\\n              636 E 224th St Apt 1C\\n              Bronx, NY 10466\\n            '], 8: ['Frank Novel', '\\n                  Erie, PA\\n                ', '\\n                  60s\\n                  ', '\\n          (814) 874-3015\\n        ', '\\n              12 E 9th St Apt 210\\n              Erie, PA 16501\\n            '], 9: ['Brian E Novel', '\\n                  Troy, MO\\n                ', '\\n                  40s\\n                  ', '\\n          (636) 673-2560\\n        ', '\\n              231 Sydnorville Rd\\n              Troy, MO 63379\\n            '], 10: ['Kathleen Novel', '\\n                  Lawrence, MA\\n                ', '\\n                  40s\\n                  ', '\\n          (978) 686-7185\\n        ', '\\n              102 Beacon St\\n              Lawrence, MA 01843\\n            '], 11: ['Edward R Novel', '\\n                  Centerville, PA\\n                ', '\\n                  80+\\n                  ', '\\n          (814) 774-8366\\n        ', '\\n              37771 State Highway 77\\n              Centerville, PA 16404\\n            '], 12: ['Julianna J Novel', '\\n                  Sandusky, OH\\n                ', '\\n                  40s\\n                  ', '\\n          (864) 379-8030\\n        ', '\\n              4610 Bayshore Rd\\n              Sandusky, OH 44870\\n            '], 13: ['Patrick J Novel', '\\n                  Erie, PA\\n                ', '\\n                  50s\\n                  ', '\\n          (814) 825-2599\\n        ', '\\n              3823 Davison Ave\\n              Erie, PA 16504\\n            '], 14: ['Janet L Novel', '\\n                  West Farmington, OH\\n                ', '\\n                  50s\\n                  ', '\\n          (330) 889-6249\\n        ', '\\n              6116 Oak Hill Dr\\n              West Farmington, OH 44491\\n            '], 15: ['Jayme Lee Novel', '\\n                  New Martinsville, WV\\n                ', '\\n                  30s\\n                  ', '\\n              Loveland, CO\\n            \\n              Black Hawk, CO\\n            ', '\\n              1022 3rd St\\n              New Martinsville, WV 26155\\n            ']}\n"
     ]
    }
   ],
   "source": [
    "count = 0\n",
    "total_results = {}\n",
    "for divs in all_divs:\n",
    "    link = divs.find('a',{'class':'card-link'})\n",
    "    if link:\n",
    "        newlink = link.get('href')\n",
    "        new_url = \"https://www.411.com\" + newlink\n",
    "        # print(new_url)\n",
    "        new_response = requests.get(new_url,headers=headers)\n",
    "        # print(new_response.content.decode())\n",
    "        new_data = new_response.content.decode()\n",
    "        new_soup = BeautifulSoup(new_data,'html.parser')\n",
    "\n",
    "        newname = new_soup.find('h1',{'class':'headline'}).text\n",
    "        location = new_soup.find('p',{'class':'mb-0'}).text\n",
    "        newage = new_soup.find('div',{'id':'person-details-age'}).text\n",
    "        phone_no = new_soup.find('a',{'class':'v-card--flat'}).text\n",
    "        current_addr = new_soup.find('a',{'class':'raven--text'}).text\n",
    "        # print(newname,location,newage,phone_no,current_addr)\n",
    "        # print('\\n')\n",
    "        count += 1\n",
    "        total_results[count] = [newname,location,newage,phone_no,current_addr]\n",
    "    else:\n",
    "        continue\n",
    "\n",
    "total_results_df = pd.DataFrame.from_dict(total_results,orient='index',columns=['Name','Location','Age','Phone Number','Current Address'])\n",
    "\n",
    "    "
   ]
  },
  {
   "cell_type": "code",
   "execution_count": 23,
   "metadata": {},
   "outputs": [
    {
     "data": {
      "text/html": [
       "<div>\n",
       "<style scoped>\n",
       "    .dataframe tbody tr th:only-of-type {\n",
       "        vertical-align: middle;\n",
       "    }\n",
       "\n",
       "    .dataframe tbody tr th {\n",
       "        vertical-align: top;\n",
       "    }\n",
       "\n",
       "    .dataframe thead th {\n",
       "        text-align: right;\n",
       "    }\n",
       "</style>\n",
       "<table border=\"1\" class=\"dataframe\">\n",
       "  <thead>\n",
       "    <tr style=\"text-align: right;\">\n",
       "      <th></th>\n",
       "      <th>Name</th>\n",
       "      <th>Location</th>\n",
       "      <th>Age</th>\n",
       "      <th>Phone Number</th>\n",
       "      <th>Current Address</th>\n",
       "    </tr>\n",
       "  </thead>\n",
       "  <tbody>\n",
       "    <tr>\n",
       "      <th>1</th>\n",
       "      <td>Mariana Novel</td>\n",
       "      <td>\\n                  Bronx, NY\\n</td>\n",
       "      <td>\\n                  50s\\n</td>\n",
       "      <td>\\n          (718) 231-0784\\n</td>\n",
       "      <td>\\n              1407 Oakley St\\n              ...</td>\n",
       "    </tr>\n",
       "    <tr>\n",
       "      <th>2</th>\n",
       "      <td>John Novel</td>\n",
       "      <td>\\n                  Erie, PA\\n</td>\n",
       "      <td>\\n                  70s\\n</td>\n",
       "      <td>\\n          (814) 871-2172\\n</td>\n",
       "      <td>\\n              758 E 8th St\\n              Er...</td>\n",
       "    </tr>\n",
       "    <tr>\n",
       "      <th>3</th>\n",
       "      <td>R Novel</td>\n",
       "      <td>\\n                  Clinton, IN\\n</td>\n",
       "      <td>\\n                  70s\\n</td>\n",
       "      <td>\\n          (765) 832-8705\\n</td>\n",
       "      <td>\\n              14844 S 7th Ave\\n             ...</td>\n",
       "    </tr>\n",
       "    <tr>\n",
       "      <th>4</th>\n",
       "      <td>Craig R Novel</td>\n",
       "      <td>\\n                  Snohomish, WA\\n           ...</td>\n",
       "      <td>\\n                  50s\\n</td>\n",
       "      <td>\\n          (425) 821-3546\\n</td>\n",
       "      <td>\\n              18909 State Route 9 SE # 9\\n  ...</td>\n",
       "    </tr>\n",
       "    <tr>\n",
       "      <th>5</th>\n",
       "      <td>Theresa E Novel</td>\n",
       "      <td>\\n                  Rockville, MD\\n           ...</td>\n",
       "      <td>\\n                  60s\\n</td>\n",
       "      <td>\\n          (301) 208-2789\\n</td>\n",
       "      <td>\\n              10028 Sterling Ter\\n          ...</td>\n",
       "    </tr>\n",
       "  </tbody>\n",
       "</table>\n",
       "</div>"
      ],
      "text/plain": [
       "              Name                                           Location  \\\n",
       "1    Mariana Novel    \\n                  Bronx, NY\\n                   \n",
       "2       John Novel     \\n                  Erie, PA\\n                   \n",
       "3          R Novel  \\n                  Clinton, IN\\n                   \n",
       "4    Craig R Novel  \\n                  Snohomish, WA\\n           ...   \n",
       "5  Theresa E Novel  \\n                  Rockville, MD\\n           ...   \n",
       "\n",
       "                                           Age  \\\n",
       "1  \\n                  50s\\n                     \n",
       "2  \\n                  70s\\n                     \n",
       "3  \\n                  70s\\n                     \n",
       "4  \\n                  50s\\n                     \n",
       "5  \\n                  60s\\n                     \n",
       "\n",
       "                           Phone Number  \\\n",
       "1  \\n          (718) 231-0784\\n           \n",
       "2  \\n          (814) 871-2172\\n           \n",
       "3  \\n          (765) 832-8705\\n           \n",
       "4  \\n          (425) 821-3546\\n           \n",
       "5  \\n          (301) 208-2789\\n           \n",
       "\n",
       "                                     Current Address  \n",
       "1  \\n              1407 Oakley St\\n              ...  \n",
       "2  \\n              758 E 8th St\\n              Er...  \n",
       "3  \\n              14844 S 7th Ave\\n             ...  \n",
       "4  \\n              18909 State Route 9 SE # 9\\n  ...  \n",
       "5  \\n              10028 Sterling Ter\\n          ...  "
      ]
     },
     "execution_count": 23,
     "metadata": {},
     "output_type": "execute_result"
    }
   ],
   "source": [
    "total_results_df.head()"
   ]
  },
  {
   "cell_type": "code",
   "execution_count": 24,
   "metadata": {},
   "outputs": [],
   "source": [
    "total_results_df.to_csv('411.csv')"
   ]
  },
  {
   "cell_type": "code",
   "execution_count": 10,
   "metadata": {
    "tags": []
   },
   "outputs": [
    {
     "name": "stdout",
     "output_type": "stream",
     "text": [
      "https://www.411.com/name/novel?fs=1&searchedName=Novel&searchedLocation=\n"
     ]
    },
    {
     "ename": "AttributeError",
     "evalue": "'NoneType' object has no attribute 'get'",
     "output_type": "error",
     "traceback": [
      "\u001b[0;31m---------------------------------------------------------------------------\u001b[0m",
      "\u001b[0;31mAttributeError\u001b[0m                            Traceback (most recent call last)",
      "\u001b[0;32m<ipython-input-10-0908de9c5f05>\u001b[0m in \u001b[0;36m<module>\u001b[0;34m\u001b[0m\n\u001b[1;32m     33\u001b[0m \u001b[0;34m\u001b[0m\u001b[0m\n\u001b[1;32m     34\u001b[0m     \u001b[0murl_hu\u001b[0m \u001b[0;34m=\u001b[0m \u001b[0msoup\u001b[0m\u001b[0;34m.\u001b[0m\u001b[0mfind\u001b[0m\u001b[0;34m(\u001b[0m\u001b[0;34m'a'\u001b[0m\u001b[0;34m,\u001b[0m\u001b[0;34m{\u001b[0m\u001b[0;34m'class'\u001b[0m\u001b[0;34m:\u001b[0m\u001b[0;34m'd-flex nuxt-link-active'\u001b[0m\u001b[0;34m}\u001b[0m\u001b[0;34m)\u001b[0m\u001b[0;34m\u001b[0m\u001b[0;34m\u001b[0m\u001b[0m\n\u001b[0;32m---> 35\u001b[0;31m     \u001b[0;32mif\u001b[0m \u001b[0murl_hu\u001b[0m\u001b[0;34m.\u001b[0m\u001b[0mget\u001b[0m\u001b[0;34m(\u001b[0m\u001b[0;34m'href'\u001b[0m\u001b[0;34m)\u001b[0m\u001b[0;34m:\u001b[0m\u001b[0;34m\u001b[0m\u001b[0;34m\u001b[0m\u001b[0m\n\u001b[0m\u001b[1;32m     36\u001b[0m         \u001b[0murl\u001b[0m \u001b[0;34m=\u001b[0m \u001b[0;34m\"https://www.411.com\"\u001b[0m \u001b[0;34m+\u001b[0m \u001b[0murl_hu\u001b[0m\u001b[0;34m.\u001b[0m\u001b[0mget\u001b[0m\u001b[0;34m(\u001b[0m\u001b[0;34m'href'\u001b[0m\u001b[0;34m)\u001b[0m\u001b[0;34m\u001b[0m\u001b[0;34m\u001b[0m\u001b[0m\n\u001b[1;32m     37\u001b[0m         \u001b[0;31m# print(\"New URL\",new_url)\u001b[0m\u001b[0;34m\u001b[0m\u001b[0;34m\u001b[0m\u001b[0;34m\u001b[0m\u001b[0m\n",
      "\u001b[0;31mAttributeError\u001b[0m: 'NoneType' object has no attribute 'get'"
     ]
    }
   ],
   "source": [
    "total_results = {}\n",
    "count = 0\n",
    "\n",
    "while True:\n",
    "    user = 'novel'\n",
    "    cap_user = user.title()\n",
    "    location = ''\n",
    "    url = \"https://www.411.com/name/{}?fs=1&searchedName={}&searchedLocation={}\".format(user,cap_user,location)\n",
    "    print(url)\n",
    "    headers = {'User-Agent': 'Mozilla/5.0 (Macintosh; Intel Mac OS X 10_11_5) AppleWebKit/537.36 (KHTML, like Gecko) Chrome/50.0.2661.102 Safari/537.36'}\n",
    "    result = requests.get(url, headers=headers)\n",
    "    data = result.content.decode()\n",
    "    soup = BeautifulSoup(data,'html.parser')\n",
    "    all_divs = soup.find_all('div',{'class':'pb-2'})\n",
    "\n",
    "    for divs in all_divs:\n",
    "        link = divs.find('a',{'class':'card-link'})\n",
    "        if link:\n",
    "            newlink = link.get('href')\n",
    "            new_url = \"https://www.411.com\" + newlink\n",
    "            new_response = requests.get(new_url,headers=headers)\n",
    "            new_data = new_response.content.decode()\n",
    "            new_soup = BeautifulSoup(new_data,'html.parser')\n",
    "            newname = new_soup.find('h1',{'class':'headline'}).text\n",
    "            location = new_soup.find('p',{'class':'mb-0'}).text\n",
    "            newage = new_soup.find('div',{'id':'person-details-age'}).text\n",
    "            phone_no = new_soup.find('a',{'class':'v-card--flat'}).text\n",
    "            current_addr = new_soup.find('a',{'class':'raven--text'}).text\n",
    "            count += 1\n",
    "            total_results[count] = [newname,location,newage,phone_no,current_addr]\n",
    "        else:\n",
    "            continue\n",
    "        \n",
    "    url_hu = soup.find('a',{'class':'d-flex nuxt-link-active'})\n",
    "    if url_hu.get('href'):\n",
    "        url = \"https://www.411.com\" + url_hu.get('href')\n",
    "        # print(\"New URL\",new_url)\n",
    "    else:\n",
    "        break\n",
    "print(\"Total Jobs : \" , job_count)\n",
    "\n",
    "\n"
   ]
  },
  {
   "cell_type": "code",
   "execution_count": null,
   "metadata": {},
   "outputs": [],
   "source": []
  },
  {
   "cell_type": "code",
   "execution_count": null,
   "metadata": {},
   "outputs": [],
   "source": []
  }
 ],
 "metadata": {
  "kernelspec": {
   "display_name": "Python 3",
   "language": "python",
   "name": "python3"
  },
  "language_info": {
   "codemirror_mode": {
    "name": "ipython",
    "version": 3
   },
   "file_extension": ".py",
   "mimetype": "text/x-python",
   "name": "python",
   "nbconvert_exporter": "python",
   "pygments_lexer": "ipython3",
   "version": "3.8.5"
  },
  "metadata": {
   "interpreter": {
    "hash": "31f2aee4e71d21fbe5cf8b01ff0e069b9275f58929596ceb00d14d90e3e16cd6"
   }
  }
 },
 "nbformat": 4,
 "nbformat_minor": 2
}
