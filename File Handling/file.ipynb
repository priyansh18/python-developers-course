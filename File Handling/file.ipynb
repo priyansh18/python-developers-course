{
 "metadata": {
  "language_info": {
   "codemirror_mode": {
    "name": "ipython",
    "version": 3
   },
   "file_extension": ".py",
   "mimetype": "text/x-python",
   "name": "python",
   "nbconvert_exporter": "python",
   "pygments_lexer": "ipython3",
   "version": "3.9.2-final"
  },
  "orig_nbformat": 2,
  "kernelspec": {
   "name": "python392jvsc74a57bd09e686dfef1d5503a27ec8aa774200608216346dd535d465366844c24c4bba384",
   "display_name": "Python 3.9.2 64-bit"
  }
 },
 "nbformat": 4,
 "nbformat_minor": 2,
 "cells": [
  {
   "source": [
    "# File Access mode In Python\n",
    "  Access mode determines the mode in which the file has to be opened ie. read, write append etc. *given below :\n",
    "\n",
    "\n",
    "## r\t\n",
    "1. Opens a file for reading only.\n",
    "2. The file pointer is placed at the beginning of the file.\n",
    "3. This is the default mode\n",
    "\n",
    "## rb\t\n",
    "1. Opens a file for reading only in binary format.\n",
    "2. The file pointer is placed at the beginning of the file.\n",
    "3. This is the default mode.\n",
    "\n",
    "## r+\n",
    "\n",
    "1. Opens a file for both reading and writing.\n",
    "2. The file pointer will be at the beginning of the file.\n",
    "\n",
    "## rb+\t\n",
    "\n",
    "1. Opens a file for both reading and writing in binary format.\n",
    "2. The file pointer will be at the beginning of the file.\n",
    "\n",
    "## w\n",
    "\n",
    "1. Opens a file for writing only.\n",
    "2. Overwrites the file if the file exists.\n",
    "3. If the file does not exist, creates a new file for writing.\n",
    "\n",
    "## wb\n",
    "\n",
    "1. Opens a file for writing only in binary format.\n",
    "2. Overwrites the file if the file exists.\n",
    "3. If the file does not exist, creates a new file for writing.\n",
    "\n",
    "## w+\n",
    "\n",
    "1. Opens a file for both writing and reading.\n",
    "2. Overwrites the existing file if the file exists.\n",
    "3. If the file does not exist, creates a new file for reading and writing.\n",
    "\n",
    "## wb+\n",
    "\n",
    "1. Opens a file for both writing and reading in binary format.\n",
    "2. Overwrites the existing file if the file exists.\n",
    "3. If the file does not exist, creates a new file for reading and writing.\n",
    "\n",
    "## a\n",
    "\n",
    "1. Opens a file for appending.\n",
    "2. The file pointer is at the end of the file if the file exists. That is, the file is in the append mode.\n",
    "3.If the file does not exist, it creates a new file for writing.\n",
    "\n",
    "## ab\t\n",
    "\n",
    "1. Opens a file for appending in binary format.\n",
    "2. The file pointer is at the end of the file if the file exists. That is, the file is in the append mode.\n",
    "3. If the file does not exist, it creates a new file for writing.\n",
    "\n",
    "## a+\t\n",
    "\n",
    "1. Opens a file for both appending and reading.\n",
    "2. The file pointer is at the end of the file if the file exists. The file opens in the append mode.\n",
    "3.If the file does not exist, it creates a new file for reading and writing.\n",
    "\n",
    "## ab+\n",
    "\n",
    "1. Opens a file for both appending and reading in binary format.\n",
    "2.The file pointer is at the end of the file if the file exists. The file opens in the append mode.\n",
    "3. If the file does not exist, it creates a new file for reading and writing."
   ],
   "cell_type": "markdown",
   "metadata": {}
  },
  {
   "source": [
    "# 1. Text Files"
   ],
   "cell_type": "markdown",
   "metadata": {}
  },
  {
   "source": [
    "## Opening a Text File"
   ],
   "cell_type": "markdown",
   "metadata": {}
  },
  {
   "cell_type": "code",
   "execution_count": 12,
   "metadata": {},
   "outputs": [],
   "source": [
    "file = open(\"hello.txt\",\"r\")"
   ]
  },
  {
   "cell_type": "code",
   "execution_count": 13,
   "metadata": {},
   "outputs": [
    {
     "output_type": "execute_result",
     "data": {
      "text/plain": [
       "'Hello World !'"
      ]
     },
     "metadata": {},
     "execution_count": 13
    }
   ],
   "source": [
    "file.read()"
   ]
  },
  {
   "cell_type": "code",
   "execution_count": 17,
   "metadata": {},
   "outputs": [
    {
     "output_type": "execute_result",
     "data": {
      "text/plain": [
       "''"
      ]
     },
     "metadata": {},
     "execution_count": 17
    }
   ],
   "source": [
    "file.read(2)"
   ]
  },
  {
   "source": [
    "## Closing a Text File"
   ],
   "cell_type": "markdown",
   "metadata": {}
  },
  {
   "cell_type": "code",
   "execution_count": 18,
   "metadata": {},
   "outputs": [],
   "source": [
    "file.close()"
   ]
  },
  {
   "source": [
    "## Writing to a file"
   ],
   "cell_type": "markdown",
   "metadata": {}
  },
  {
   "cell_type": "code",
   "execution_count": 20,
   "metadata": {},
   "outputs": [],
   "source": [
    "file = open(\"something.txt\",\"w\")"
   ]
  },
  {
   "cell_type": "code",
   "execution_count": 21,
   "metadata": {},
   "outputs": [
    {
     "output_type": "execute_result",
     "data": {
      "text/plain": [
       "10"
      ]
     },
     "metadata": {},
     "execution_count": 21
    }
   ],
   "source": [
    "file.write(\"Hello form\")"
   ]
  },
  {
   "cell_type": "code",
   "execution_count": 22,
   "metadata": {},
   "outputs": [],
   "source": [
    "file.close()"
   ]
  },
  {
   "source": [
    "## Reading from a file"
   ],
   "cell_type": "markdown",
   "metadata": {}
  },
  {
   "cell_type": "code",
   "execution_count": 23,
   "metadata": {},
   "outputs": [],
   "source": [
    "file = open(\"hello.txt\",\"r\")"
   ]
  },
  {
   "cell_type": "code",
   "execution_count": 24,
   "metadata": {},
   "outputs": [
    {
     "output_type": "execute_result",
     "data": {
      "text/plain": [
       "'Hello World !\\n'"
      ]
     },
     "metadata": {},
     "execution_count": 24
    }
   ],
   "source": [
    "file.readline()"
   ]
  },
  {
   "cell_type": "code",
   "execution_count": 25,
   "metadata": {},
   "outputs": [
    {
     "output_type": "execute_result",
     "data": {
      "text/plain": [
       "'Hello\\n'"
      ]
     },
     "metadata": {},
     "execution_count": 25
    }
   ],
   "source": [
    "file.readline()\n"
   ]
  },
  {
   "cell_type": "code",
   "execution_count": 26,
   "metadata": {},
   "outputs": [
    {
     "output_type": "execute_result",
     "data": {
      "text/plain": [
       "'Not'"
      ]
     },
     "metadata": {},
     "execution_count": 26
    }
   ],
   "source": [
    "file.readline()\n"
   ]
  },
  {
   "cell_type": "code",
   "execution_count": 27,
   "metadata": {},
   "outputs": [
    {
     "output_type": "execute_result",
     "data": {
      "text/plain": [
       "''"
      ]
     },
     "metadata": {},
     "execution_count": 27
    }
   ],
   "source": [
    "file.readline()\n"
   ]
  },
  {
   "cell_type": "code",
   "execution_count": 29,
   "metadata": {},
   "outputs": [],
   "source": [
    "file.close()\n"
   ]
  },
  {
   "cell_type": "code",
   "execution_count": 30,
   "metadata": {},
   "outputs": [],
   "source": [
    "file = open(\"hello.txt\",\"r\")\n"
   ]
  },
  {
   "cell_type": "code",
   "execution_count": 31,
   "metadata": {},
   "outputs": [
    {
     "output_type": "execute_result",
     "data": {
      "text/plain": [
       "['Hello World !\\n', 'Hello\\n', 'Not']"
      ]
     },
     "metadata": {},
     "execution_count": 31
    }
   ],
   "source": [
    "file.readlines()"
   ]
  },
  {
   "cell_type": "code",
   "execution_count": 32,
   "metadata": {},
   "outputs": [],
   "source": [
    "file.close()"
   ]
  },
  {
   "source": [
    "## Moving the Cursor"
   ],
   "cell_type": "markdown",
   "metadata": {}
  },
  {
   "cell_type": "code",
   "execution_count": 33,
   "metadata": {},
   "outputs": [],
   "source": [
    "file = open(\"hello.txt\",\"r\")\n"
   ]
  },
  {
   "cell_type": "code",
   "execution_count": 34,
   "metadata": {},
   "outputs": [
    {
     "output_type": "execute_result",
     "data": {
      "text/plain": [
       "'Hell'"
      ]
     },
     "metadata": {},
     "execution_count": 34
    }
   ],
   "source": [
    "file.read(4)"
   ]
  },
  {
   "cell_type": "code",
   "execution_count": 35,
   "metadata": {},
   "outputs": [
    {
     "output_type": "execute_result",
     "data": {
      "text/plain": [
       "'o World !\\nHello\\nNot'"
      ]
     },
     "metadata": {},
     "execution_count": 35
    }
   ],
   "source": [
    "file.read()"
   ]
  },
  {
   "cell_type": "code",
   "execution_count": 36,
   "metadata": {},
   "outputs": [
    {
     "output_type": "execute_result",
     "data": {
      "text/plain": [
       "''"
      ]
     },
     "metadata": {},
     "execution_count": 36
    }
   ],
   "source": [
    "file.read()"
   ]
  },
  {
   "cell_type": "code",
   "execution_count": 38,
   "metadata": {},
   "outputs": [
    {
     "output_type": "execute_result",
     "data": {
      "text/plain": [
       "0"
      ]
     },
     "metadata": {},
     "execution_count": 38
    }
   ],
   "source": [
    "## Make cursor point to index specified\n",
    "file.seek(0)"
   ]
  },
  {
   "cell_type": "code",
   "execution_count": 39,
   "metadata": {},
   "outputs": [
    {
     "output_type": "execute_result",
     "data": {
      "text/plain": [
       "'Hello World !\\nHello\\nNot'"
      ]
     },
     "metadata": {},
     "execution_count": 39
    }
   ],
   "source": [
    "file.read()"
   ]
  },
  {
   "cell_type": "code",
   "execution_count": 40,
   "metadata": {},
   "outputs": [],
   "source": [
    "file.close()"
   ]
  },
  {
   "source": [
    "## Smarter Ways of Opening a File"
   ],
   "cell_type": "markdown",
   "metadata": {}
  },
  {
   "cell_type": "code",
   "execution_count": 42,
   "metadata": {},
   "outputs": [
    {
     "output_type": "stream",
     "name": "stdout",
     "text": [
      "Hello World !\nHello\nNot\no World !\nHello\nNot\n"
     ]
    }
   ],
   "source": [
    "## Using With\n",
    "\n",
    "with open(\"hello.txt\",\"r\") as file:\n",
    "    print(file.read())\n",
    "    file.seek(4)\n",
    "    print(file.read())\n",
    "\n",
    "## Outside of with block python automatically close the file"
   ]
  },
  {
   "source": [
    "# Working with JSON(Javascript Object Notation) file"
   ],
   "cell_type": "markdown",
   "metadata": {}
  },
  {
   "cell_type": "code",
   "execution_count": 2,
   "metadata": {},
   "outputs": [],
   "source": [
    "import json"
   ]
  },
  {
   "cell_type": "code",
   "execution_count": 8,
   "metadata": {},
   "outputs": [
    {
     "output_type": "stream",
     "name": "stdout",
     "text": [
      "{'name': 'priyansh', 'marks': 90, 'subjects': ['science', 'maths']}\n<class 'dict'>\npriyansh\nscience\n"
     ]
    }
   ],
   "source": [
    "with open(\"data.json\",\"r\") as file:\n",
    "    d = json.load(file)\n",
    "    print(d)\n",
    "    print(type(d))\n",
    "    print(d[\"name\"])\n",
    "    print(d[\"subjects\"][0])\n",
    "   "
   ]
  },
  {
   "cell_type": "code",
   "execution_count": 9,
   "metadata": {},
   "outputs": [
    {
     "output_type": "stream",
     "name": "stdout",
     "text": [
      "{\n    \"name\" : \"priyansh\",\n    \"marks\" : 90,\n    \"subjects\" : [\"science\",\"maths\"]\n}\n{'name': 'priyansh', 'marks': 90, 'subjects': ['science', 'maths']}\n<class 'dict'>\npriyansh\nscience\n"
     ]
    }
   ],
   "source": [
    "with open(\"data.json\",\"r\") as file:\n",
    "    data = file.read()\n",
    "    print(data)\n",
    "    d = json.loads(data)\n",
    "    print(d)\n",
    "    print(type(d))\n",
    "    print(d[\"name\"])\n",
    "    print(d[\"subjects\"][0])"
   ]
  },
  {
   "cell_type": "code",
   "execution_count": 10,
   "metadata": {},
   "outputs": [],
   "source": [
    "d = {'name': 'priyansh', 'marks': 90, 'subjects': ['science', 'maths']}"
   ]
  },
  {
   "cell_type": "code",
   "execution_count": 12,
   "metadata": {},
   "outputs": [
    {
     "output_type": "execute_result",
     "data": {
      "text/plain": [
       "'priyansh'"
      ]
     },
     "metadata": {},
     "execution_count": 12
    }
   ],
   "source": [
    "d[\"name\"]"
   ]
  },
  {
   "cell_type": "code",
   "execution_count": 13,
   "metadata": {},
   "outputs": [],
   "source": [
    "string = json.dumps(d)"
   ]
  },
  {
   "cell_type": "code",
   "execution_count": 15,
   "metadata": {},
   "outputs": [
    {
     "output_type": "stream",
     "name": "stdout",
     "text": [
      "{\"name\": \"priyansh\", \"marks\": 90, \"subjects\": [\"science\", \"maths\"]}\n"
     ]
    }
   ],
   "source": [
    "print(string)"
   ]
  },
  {
   "source": [
    "with open(\"data2.json\",\"w\") as file:\n",
    "    json.dump(d,file)\n"
   ],
   "cell_type": "code",
   "metadata": {},
   "execution_count": 17,
   "outputs": []
  },
  {
   "cell_type": "code",
   "execution_count": null,
   "metadata": {},
   "outputs": [],
   "source": []
  }
 ]
}