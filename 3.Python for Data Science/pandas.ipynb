{
 "metadata": {
  "language_info": {
   "codemirror_mode": {
    "name": "ipython",
    "version": 3
   },
   "file_extension": ".py",
   "mimetype": "text/x-python",
   "name": "python",
   "nbconvert_exporter": "python",
   "pygments_lexer": "ipython3",
   "version": "3.9.2"
  },
  "orig_nbformat": 2,
  "kernelspec": {
   "name": "python392jvsc74a57bd09e686dfef1d5503a27ec8aa774200608216346dd535d465366844c24c4bba384",
   "display_name": "Python 3.9.2 64-bit"
  }
 },
 "nbformat": 4,
 "nbformat_minor": 2,
 "cells": [
  {
   "source": [
    "# Pandas\n",
    "### Dataframe --- Special Object to data in tabular form(rows or columns)"
   ],
   "cell_type": "markdown",
   "metadata": {}
  },
  {
   "cell_type": "code",
   "execution_count": 1,
   "metadata": {},
   "outputs": [],
   "source": [
    "import numpy as np\n",
    "import pandas as pd"
   ]
  },
  {
   "cell_type": "code",
   "execution_count": 6,
   "metadata": {},
   "outputs": [],
   "source": [
    "user_data = {\n",
    "    \"Marks_A\":np.random.randint(1,100,7),\n",
    "    \"Marks_B\":np.random.randint(100,200,7),\n",
    "    \"Marks_C\":np.random.randint(200,300,7)\n",
    "}"
   ]
  },
  {
   "cell_type": "code",
   "execution_count": 7,
   "metadata": {},
   "outputs": [
    {
     "output_type": "execute_result",
     "data": {
      "text/plain": [
       "{'Marks_A': array([ 6, 91, 23, 81, 42, 36, 94]),\n",
       " 'Marks_B': array([187, 176, 116, 133, 142, 168, 136]),\n",
       " 'Marks_C': array([202, 281, 260, 226, 222, 251, 279])}"
      ]
     },
     "metadata": {},
     "execution_count": 7
    }
   ],
   "source": [
    "user_data"
   ]
  },
  {
   "cell_type": "code",
   "execution_count": 12,
   "metadata": {},
   "outputs": [
    {
     "output_type": "stream",
     "name": "stdout",
     "text": [
      "   Marks_A  Marks_B  Marks_C\n0      6.0    187.0    202.0\n1     91.0    176.0    281.0\n2     23.0    116.0    260.0\n3     81.0    133.0    226.0\n4     42.0    142.0    222.0\n5     36.0    168.0    251.0\n6     94.0    136.0    279.0\n"
     ]
    }
   ],
   "source": [
    "df = pd.DataFrame(user_data,dtype='float32')\n",
    "print(df)"
   ]
  },
  {
   "cell_type": "code",
   "execution_count": 13,
   "metadata": {},
   "outputs": [
    {
     "output_type": "execute_result",
     "data": {
      "text/plain": [
       "   Marks_A  Marks_B  Marks_C\n",
       "0      6.0    187.0    202.0\n",
       "1     91.0    176.0    281.0\n",
       "2     23.0    116.0    260.0\n",
       "3     81.0    133.0    226.0\n",
       "4     42.0    142.0    222.0"
      ],
      "text/html": "<div>\n<style scoped>\n    .dataframe tbody tr th:only-of-type {\n        vertical-align: middle;\n    }\n\n    .dataframe tbody tr th {\n        vertical-align: top;\n    }\n\n    .dataframe thead th {\n        text-align: right;\n    }\n</style>\n<table border=\"1\" class=\"dataframe\">\n  <thead>\n    <tr style=\"text-align: right;\">\n      <th></th>\n      <th>Marks_A</th>\n      <th>Marks_B</th>\n      <th>Marks_C</th>\n    </tr>\n  </thead>\n  <tbody>\n    <tr>\n      <th>0</th>\n      <td>6.0</td>\n      <td>187.0</td>\n      <td>202.0</td>\n    </tr>\n    <tr>\n      <th>1</th>\n      <td>91.0</td>\n      <td>176.0</td>\n      <td>281.0</td>\n    </tr>\n    <tr>\n      <th>2</th>\n      <td>23.0</td>\n      <td>116.0</td>\n      <td>260.0</td>\n    </tr>\n    <tr>\n      <th>3</th>\n      <td>81.0</td>\n      <td>133.0</td>\n      <td>226.0</td>\n    </tr>\n    <tr>\n      <th>4</th>\n      <td>42.0</td>\n      <td>142.0</td>\n      <td>222.0</td>\n    </tr>\n  </tbody>\n</table>\n</div>"
     },
     "metadata": {},
     "execution_count": 13
    }
   ],
   "source": [
    "df.head()"
   ]
  },
  {
   "cell_type": "code",
   "execution_count": 14,
   "metadata": {},
   "outputs": [
    {
     "output_type": "execute_result",
     "data": {
      "text/plain": [
       "   Marks_A  Marks_B  Marks_C\n",
       "0      6.0    187.0    202.0\n",
       "1     91.0    176.0    281.0\n",
       "2     23.0    116.0    260.0"
      ],
      "text/html": "<div>\n<style scoped>\n    .dataframe tbody tr th:only-of-type {\n        vertical-align: middle;\n    }\n\n    .dataframe tbody tr th {\n        vertical-align: top;\n    }\n\n    .dataframe thead th {\n        text-align: right;\n    }\n</style>\n<table border=\"1\" class=\"dataframe\">\n  <thead>\n    <tr style=\"text-align: right;\">\n      <th></th>\n      <th>Marks_A</th>\n      <th>Marks_B</th>\n      <th>Marks_C</th>\n    </tr>\n  </thead>\n  <tbody>\n    <tr>\n      <th>0</th>\n      <td>6.0</td>\n      <td>187.0</td>\n      <td>202.0</td>\n    </tr>\n    <tr>\n      <th>1</th>\n      <td>91.0</td>\n      <td>176.0</td>\n      <td>281.0</td>\n    </tr>\n    <tr>\n      <th>2</th>\n      <td>23.0</td>\n      <td>116.0</td>\n      <td>260.0</td>\n    </tr>\n  </tbody>\n</table>\n</div>"
     },
     "metadata": {},
     "execution_count": 14
    }
   ],
   "source": [
    "df.head(n=3)"
   ]
  },
  {
   "cell_type": "code",
   "execution_count": 15,
   "metadata": {},
   "outputs": [],
   "source": [
    "df.to_csv('marks.csv')"
   ]
  },
  {
   "cell_type": "code",
   "execution_count": 16,
   "metadata": {},
   "outputs": [],
   "source": [
    "my_data = pd.read_csv('marks.csv')"
   ]
  },
  {
   "cell_type": "code",
   "execution_count": 17,
   "metadata": {},
   "outputs": [
    {
     "output_type": "execute_result",
     "data": {
      "text/plain": [
       "   Unnamed: 0  Marks_A  Marks_B  Marks_C\n",
       "0           0      6.0    187.0    202.0\n",
       "1           1     91.0    176.0    281.0\n",
       "2           2     23.0    116.0    260.0\n",
       "3           3     81.0    133.0    226.0\n",
       "4           4     42.0    142.0    222.0\n",
       "5           5     36.0    168.0    251.0\n",
       "6           6     94.0    136.0    279.0"
      ],
      "text/html": "<div>\n<style scoped>\n    .dataframe tbody tr th:only-of-type {\n        vertical-align: middle;\n    }\n\n    .dataframe tbody tr th {\n        vertical-align: top;\n    }\n\n    .dataframe thead th {\n        text-align: right;\n    }\n</style>\n<table border=\"1\" class=\"dataframe\">\n  <thead>\n    <tr style=\"text-align: right;\">\n      <th></th>\n      <th>Unnamed: 0</th>\n      <th>Marks_A</th>\n      <th>Marks_B</th>\n      <th>Marks_C</th>\n    </tr>\n  </thead>\n  <tbody>\n    <tr>\n      <th>0</th>\n      <td>0</td>\n      <td>6.0</td>\n      <td>187.0</td>\n      <td>202.0</td>\n    </tr>\n    <tr>\n      <th>1</th>\n      <td>1</td>\n      <td>91.0</td>\n      <td>176.0</td>\n      <td>281.0</td>\n    </tr>\n    <tr>\n      <th>2</th>\n      <td>2</td>\n      <td>23.0</td>\n      <td>116.0</td>\n      <td>260.0</td>\n    </tr>\n    <tr>\n      <th>3</th>\n      <td>3</td>\n      <td>81.0</td>\n      <td>133.0</td>\n      <td>226.0</td>\n    </tr>\n    <tr>\n      <th>4</th>\n      <td>4</td>\n      <td>42.0</td>\n      <td>142.0</td>\n      <td>222.0</td>\n    </tr>\n    <tr>\n      <th>5</th>\n      <td>5</td>\n      <td>36.0</td>\n      <td>168.0</td>\n      <td>251.0</td>\n    </tr>\n    <tr>\n      <th>6</th>\n      <td>6</td>\n      <td>94.0</td>\n      <td>136.0</td>\n      <td>279.0</td>\n    </tr>\n  </tbody>\n</table>\n</div>"
     },
     "metadata": {},
     "execution_count": 17
    }
   ],
   "source": [
    "my_data"
   ]
  },
  {
   "cell_type": "code",
   "execution_count": 19,
   "metadata": {},
   "outputs": [],
   "source": [
    "my_data = my_data.drop(columns=['Unnamed: 0'])"
   ]
  },
  {
   "cell_type": "code",
   "execution_count": 20,
   "metadata": {},
   "outputs": [
    {
     "output_type": "execute_result",
     "data": {
      "text/plain": [
       "   Marks_A  Marks_B  Marks_C\n",
       "0      6.0    187.0    202.0\n",
       "1     91.0    176.0    281.0\n",
       "2     23.0    116.0    260.0\n",
       "3     81.0    133.0    226.0\n",
       "4     42.0    142.0    222.0\n",
       "5     36.0    168.0    251.0\n",
       "6     94.0    136.0    279.0"
      ],
      "text/html": "<div>\n<style scoped>\n    .dataframe tbody tr th:only-of-type {\n        vertical-align: middle;\n    }\n\n    .dataframe tbody tr th {\n        vertical-align: top;\n    }\n\n    .dataframe thead th {\n        text-align: right;\n    }\n</style>\n<table border=\"1\" class=\"dataframe\">\n  <thead>\n    <tr style=\"text-align: right;\">\n      <th></th>\n      <th>Marks_A</th>\n      <th>Marks_B</th>\n      <th>Marks_C</th>\n    </tr>\n  </thead>\n  <tbody>\n    <tr>\n      <th>0</th>\n      <td>6.0</td>\n      <td>187.0</td>\n      <td>202.0</td>\n    </tr>\n    <tr>\n      <th>1</th>\n      <td>91.0</td>\n      <td>176.0</td>\n      <td>281.0</td>\n    </tr>\n    <tr>\n      <th>2</th>\n      <td>23.0</td>\n      <td>116.0</td>\n      <td>260.0</td>\n    </tr>\n    <tr>\n      <th>3</th>\n      <td>81.0</td>\n      <td>133.0</td>\n      <td>226.0</td>\n    </tr>\n    <tr>\n      <th>4</th>\n      <td>42.0</td>\n      <td>142.0</td>\n      <td>222.0</td>\n    </tr>\n    <tr>\n      <th>5</th>\n      <td>36.0</td>\n      <td>168.0</td>\n      <td>251.0</td>\n    </tr>\n    <tr>\n      <th>6</th>\n      <td>94.0</td>\n      <td>136.0</td>\n      <td>279.0</td>\n    </tr>\n  </tbody>\n</table>\n</div>"
     },
     "metadata": {},
     "execution_count": 20
    }
   ],
   "source": [
    "my_data"
   ]
  },
  {
   "cell_type": "code",
   "execution_count": 21,
   "metadata": {},
   "outputs": [
    {
     "output_type": "execute_result",
     "data": {
      "text/plain": [
       "         Marks_A     Marks_B     Marks_C\n",
       "count   7.000000    7.000000    7.000000\n",
       "mean   53.285714  151.142857  245.857143\n",
       "std    35.183871   26.028373   30.129878\n",
       "min     6.000000  116.000000  202.000000\n",
       "25%    29.500000  134.500000  224.000000\n",
       "50%    42.000000  142.000000  251.000000\n",
       "75%    86.000000  172.000000  269.500000\n",
       "max    94.000000  187.000000  281.000000"
      ],
      "text/html": "<div>\n<style scoped>\n    .dataframe tbody tr th:only-of-type {\n        vertical-align: middle;\n    }\n\n    .dataframe tbody tr th {\n        vertical-align: top;\n    }\n\n    .dataframe thead th {\n        text-align: right;\n    }\n</style>\n<table border=\"1\" class=\"dataframe\">\n  <thead>\n    <tr style=\"text-align: right;\">\n      <th></th>\n      <th>Marks_A</th>\n      <th>Marks_B</th>\n      <th>Marks_C</th>\n    </tr>\n  </thead>\n  <tbody>\n    <tr>\n      <th>count</th>\n      <td>7.000000</td>\n      <td>7.000000</td>\n      <td>7.000000</td>\n    </tr>\n    <tr>\n      <th>mean</th>\n      <td>53.285714</td>\n      <td>151.142857</td>\n      <td>245.857143</td>\n    </tr>\n    <tr>\n      <th>std</th>\n      <td>35.183871</td>\n      <td>26.028373</td>\n      <td>30.129878</td>\n    </tr>\n    <tr>\n      <th>min</th>\n      <td>6.000000</td>\n      <td>116.000000</td>\n      <td>202.000000</td>\n    </tr>\n    <tr>\n      <th>25%</th>\n      <td>29.500000</td>\n      <td>134.500000</td>\n      <td>224.000000</td>\n    </tr>\n    <tr>\n      <th>50%</th>\n      <td>42.000000</td>\n      <td>142.000000</td>\n      <td>251.000000</td>\n    </tr>\n    <tr>\n      <th>75%</th>\n      <td>86.000000</td>\n      <td>172.000000</td>\n      <td>269.500000</td>\n    </tr>\n    <tr>\n      <th>max</th>\n      <td>94.000000</td>\n      <td>187.000000</td>\n      <td>281.000000</td>\n    </tr>\n  </tbody>\n</table>\n</div>"
     },
     "metadata": {},
     "execution_count": 21
    }
   ],
   "source": [
    "my_data.describe()"
   ]
  },
  {
   "cell_type": "code",
   "execution_count": 22,
   "metadata": {},
   "outputs": [
    {
     "output_type": "execute_result",
     "data": {
      "text/plain": [
       "   Marks_A  Marks_B  Marks_C\n",
       "2     23.0    116.0    260.0\n",
       "3     81.0    133.0    226.0\n",
       "4     42.0    142.0    222.0\n",
       "5     36.0    168.0    251.0\n",
       "6     94.0    136.0    279.0"
      ],
      "text/html": "<div>\n<style scoped>\n    .dataframe tbody tr th:only-of-type {\n        vertical-align: middle;\n    }\n\n    .dataframe tbody tr th {\n        vertical-align: top;\n    }\n\n    .dataframe thead th {\n        text-align: right;\n    }\n</style>\n<table border=\"1\" class=\"dataframe\">\n  <thead>\n    <tr style=\"text-align: right;\">\n      <th></th>\n      <th>Marks_A</th>\n      <th>Marks_B</th>\n      <th>Marks_C</th>\n    </tr>\n  </thead>\n  <tbody>\n    <tr>\n      <th>2</th>\n      <td>23.0</td>\n      <td>116.0</td>\n      <td>260.0</td>\n    </tr>\n    <tr>\n      <th>3</th>\n      <td>81.0</td>\n      <td>133.0</td>\n      <td>226.0</td>\n    </tr>\n    <tr>\n      <th>4</th>\n      <td>42.0</td>\n      <td>142.0</td>\n      <td>222.0</td>\n    </tr>\n    <tr>\n      <th>5</th>\n      <td>36.0</td>\n      <td>168.0</td>\n      <td>251.0</td>\n    </tr>\n    <tr>\n      <th>6</th>\n      <td>94.0</td>\n      <td>136.0</td>\n      <td>279.0</td>\n    </tr>\n  </tbody>\n</table>\n</div>"
     },
     "metadata": {},
     "execution_count": 22
    }
   ],
   "source": [
    "my_data.tail()"
   ]
  },
  {
   "cell_type": "code",
   "execution_count": 23,
   "metadata": {},
   "outputs": [
    {
     "output_type": "execute_result",
     "data": {
      "text/plain": [
       "Marks_A     81.0\n",
       "Marks_B    133.0\n",
       "Marks_C    226.0\n",
       "Name: 3, dtype: float32"
      ]
     },
     "metadata": {},
     "execution_count": 23
    }
   ],
   "source": [
    "df.iloc[3]"
   ]
  },
  {
   "cell_type": "code",
   "execution_count": 24,
   "metadata": {},
   "outputs": [
    {
     "output_type": "execute_result",
     "data": {
      "text/plain": [
       "133.0"
      ]
     },
     "metadata": {},
     "execution_count": 24
    }
   ],
   "source": [
    "df.iloc[3,1]\n"
   ]
  },
  {
   "cell_type": "code",
   "execution_count": 25,
   "metadata": {},
   "outputs": [
    {
     "output_type": "execute_result",
     "data": {
      "text/plain": [
       "133.0"
      ]
     },
     "metadata": {},
     "execution_count": 25
    }
   ],
   "source": [
    "df.iloc[3][1]"
   ]
  },
  {
   "cell_type": "code",
   "execution_count": 26,
   "metadata": {},
   "outputs": [
    {
     "output_type": "execute_result",
     "data": {
      "text/plain": [
       "   Marks_A  Marks_B  Marks_C\n",
       "0      6.0    187.0    202.0\n",
       "2     23.0    116.0    260.0\n",
       "5     36.0    168.0    251.0\n",
       "4     42.0    142.0    222.0\n",
       "3     81.0    133.0    226.0\n",
       "1     91.0    176.0    281.0\n",
       "6     94.0    136.0    279.0"
      ],
      "text/html": "<div>\n<style scoped>\n    .dataframe tbody tr th:only-of-type {\n        vertical-align: middle;\n    }\n\n    .dataframe tbody tr th {\n        vertical-align: top;\n    }\n\n    .dataframe thead th {\n        text-align: right;\n    }\n</style>\n<table border=\"1\" class=\"dataframe\">\n  <thead>\n    <tr style=\"text-align: right;\">\n      <th></th>\n      <th>Marks_A</th>\n      <th>Marks_B</th>\n      <th>Marks_C</th>\n    </tr>\n  </thead>\n  <tbody>\n    <tr>\n      <th>0</th>\n      <td>6.0</td>\n      <td>187.0</td>\n      <td>202.0</td>\n    </tr>\n    <tr>\n      <th>2</th>\n      <td>23.0</td>\n      <td>116.0</td>\n      <td>260.0</td>\n    </tr>\n    <tr>\n      <th>5</th>\n      <td>36.0</td>\n      <td>168.0</td>\n      <td>251.0</td>\n    </tr>\n    <tr>\n      <th>4</th>\n      <td>42.0</td>\n      <td>142.0</td>\n      <td>222.0</td>\n    </tr>\n    <tr>\n      <th>3</th>\n      <td>81.0</td>\n      <td>133.0</td>\n      <td>226.0</td>\n    </tr>\n    <tr>\n      <th>1</th>\n      <td>91.0</td>\n      <td>176.0</td>\n      <td>281.0</td>\n    </tr>\n    <tr>\n      <th>6</th>\n      <td>94.0</td>\n      <td>136.0</td>\n      <td>279.0</td>\n    </tr>\n  </tbody>\n</table>\n</div>"
     },
     "metadata": {},
     "execution_count": 26
    }
   ],
   "source": [
    "my_data.sort_values(by=[\"Marks_A\"],ascending=True)"
   ]
  },
  {
   "cell_type": "code",
   "execution_count": 28,
   "metadata": {},
   "outputs": [],
   "source": [
    "data_array = my_data.values"
   ]
  },
  {
   "cell_type": "code",
   "execution_count": 29,
   "metadata": {},
   "outputs": [
    {
     "output_type": "execute_result",
     "data": {
      "text/plain": [
       "array([[  6., 187., 202.],\n",
       "       [ 91., 176., 281.],\n",
       "       [ 23., 116., 260.],\n",
       "       [ 81., 133., 226.],\n",
       "       [ 42., 142., 222.],\n",
       "       [ 36., 168., 251.],\n",
       "       [ 94., 136., 279.]])"
      ]
     },
     "metadata": {},
     "execution_count": 29
    }
   ],
   "source": [
    "data_array"
   ]
  },
  {
   "cell_type": "code",
   "execution_count": 30,
   "metadata": {},
   "outputs": [],
   "source": [
    "## Converting array back into dataframe\n",
    "new_df = pd.DataFrame(data_array,dtype='int32',columns=[\"Physics\",\"Chemistry\",\"Maths\"])"
   ]
  },
  {
   "cell_type": "code",
   "execution_count": 32,
   "metadata": {},
   "outputs": [
    {
     "output_type": "execute_result",
     "data": {
      "text/plain": [
       "   Physics  Chemistry  Maths\n",
       "0        6        187    202\n",
       "1       91        176    281\n",
       "2       23        116    260\n",
       "3       81        133    226\n",
       "4       42        142    222\n",
       "5       36        168    251\n",
       "6       94        136    279"
      ],
      "text/html": "<div>\n<style scoped>\n    .dataframe tbody tr th:only-of-type {\n        vertical-align: middle;\n    }\n\n    .dataframe tbody tr th {\n        vertical-align: top;\n    }\n\n    .dataframe thead th {\n        text-align: right;\n    }\n</style>\n<table border=\"1\" class=\"dataframe\">\n  <thead>\n    <tr style=\"text-align: right;\">\n      <th></th>\n      <th>Physics</th>\n      <th>Chemistry</th>\n      <th>Maths</th>\n    </tr>\n  </thead>\n  <tbody>\n    <tr>\n      <th>0</th>\n      <td>6</td>\n      <td>187</td>\n      <td>202</td>\n    </tr>\n    <tr>\n      <th>1</th>\n      <td>91</td>\n      <td>176</td>\n      <td>281</td>\n    </tr>\n    <tr>\n      <th>2</th>\n      <td>23</td>\n      <td>116</td>\n      <td>260</td>\n    </tr>\n    <tr>\n      <th>3</th>\n      <td>81</td>\n      <td>133</td>\n      <td>226</td>\n    </tr>\n    <tr>\n      <th>4</th>\n      <td>42</td>\n      <td>142</td>\n      <td>222</td>\n    </tr>\n    <tr>\n      <th>5</th>\n      <td>36</td>\n      <td>168</td>\n      <td>251</td>\n    </tr>\n    <tr>\n      <th>6</th>\n      <td>94</td>\n      <td>136</td>\n      <td>279</td>\n    </tr>\n  </tbody>\n</table>\n</div>"
     },
     "metadata": {},
     "execution_count": 32
    }
   ],
   "source": [
    "new_df"
   ]
  },
  {
   "cell_type": "code",
   "execution_count": 33,
   "metadata": {},
   "outputs": [],
   "source": [
    "new_df.to_csv('PCM.csv')"
   ]
  },
  {
   "cell_type": "code",
   "execution_count": 46,
   "metadata": {},
   "outputs": [],
   "source": [
    "pcm_df = pd.read_csv('PCM.csv')\n",
    "pcm_df = pcm_df.drop(columns=['Unnamed: 0'])"
   ]
  },
  {
   "cell_type": "code",
   "execution_count": 47,
   "metadata": {},
   "outputs": [
    {
     "output_type": "execute_result",
     "data": {
      "text/plain": [
       "   Physics  Chemistry  Maths\n",
       "0        6        187    202\n",
       "1       91        176    281\n",
       "2       23        116    260\n",
       "3       81        133    226\n",
       "4       42        142    222\n",
       "5       36        168    251\n",
       "6       94        136    279"
      ],
      "text/html": "<div>\n<style scoped>\n    .dataframe tbody tr th:only-of-type {\n        vertical-align: middle;\n    }\n\n    .dataframe tbody tr th {\n        vertical-align: top;\n    }\n\n    .dataframe thead th {\n        text-align: right;\n    }\n</style>\n<table border=\"1\" class=\"dataframe\">\n  <thead>\n    <tr style=\"text-align: right;\">\n      <th></th>\n      <th>Physics</th>\n      <th>Chemistry</th>\n      <th>Maths</th>\n    </tr>\n  </thead>\n  <tbody>\n    <tr>\n      <th>0</th>\n      <td>6</td>\n      <td>187</td>\n      <td>202</td>\n    </tr>\n    <tr>\n      <th>1</th>\n      <td>91</td>\n      <td>176</td>\n      <td>281</td>\n    </tr>\n    <tr>\n      <th>2</th>\n      <td>23</td>\n      <td>116</td>\n      <td>260</td>\n    </tr>\n    <tr>\n      <th>3</th>\n      <td>81</td>\n      <td>133</td>\n      <td>226</td>\n    </tr>\n    <tr>\n      <th>4</th>\n      <td>42</td>\n      <td>142</td>\n      <td>222</td>\n    </tr>\n    <tr>\n      <th>5</th>\n      <td>36</td>\n      <td>168</td>\n      <td>251</td>\n    </tr>\n    <tr>\n      <th>6</th>\n      <td>94</td>\n      <td>136</td>\n      <td>279</td>\n    </tr>\n  </tbody>\n</table>\n</div>"
     },
     "metadata": {},
     "execution_count": 47
    }
   ],
   "source": [
    "pcm_df"
   ]
  },
  {
   "cell_type": "code",
   "execution_count": null,
   "metadata": {},
   "outputs": [],
   "source": []
  }
 ]
}