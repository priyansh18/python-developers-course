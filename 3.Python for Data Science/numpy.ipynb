{
 "metadata": {
  "language_info": {
   "codemirror_mode": {
    "name": "ipython",
    "version": 3
   },
   "file_extension": ".py",
   "mimetype": "text/x-python",
   "name": "python",
   "nbconvert_exporter": "python",
   "pygments_lexer": "ipython3",
   "version": "3.9.2"
  },
  "orig_nbformat": 2,
  "kernelspec": {
   "name": "python392jvsc74a57bd09e686dfef1d5503a27ec8aa774200608216346dd535d465366844c24c4bba384",
   "display_name": "Python 3.9.2 64-bit"
  }
 },
 "nbformat": 4,
 "nbformat_minor": 2,
 "cells": [
  {
   "source": [
    "# Working with Numpy -- for Mathematics Operations"
   ],
   "cell_type": "markdown",
   "metadata": {}
  },
  {
   "cell_type": "code",
   "execution_count": 2,
   "metadata": {},
   "outputs": [],
   "source": [
    "import numpy as np"
   ]
  },
  {
   "cell_type": "code",
   "execution_count": 5,
   "metadata": {},
   "outputs": [
    {
     "output_type": "stream",
     "name": "stdout",
     "text": [
      "[1 2 3 4 5 6 7 8 9]\n(9,)\n"
     ]
    }
   ],
   "source": [
    "a = np.array([1,2,3,4,5,6,7,8,9])\n",
    "print(a)\n",
    "print(a.shape)"
   ]
  },
  {
   "cell_type": "code",
   "execution_count": 7,
   "metadata": {},
   "outputs": [
    {
     "output_type": "stream",
     "name": "stdout",
     "text": [
      "[[1]\n [2]\n [3]\n [4]\n [5]]\n(5, 1)\n"
     ]
    }
   ],
   "source": [
    "b = np.array([[1],[2],[3],[4],[5]])\n",
    "print(b)\n",
    "print(b.shape)"
   ]
  },
  {
   "cell_type": "code",
   "execution_count": 9,
   "metadata": {},
   "outputs": [
    {
     "output_type": "stream",
     "name": "stdout",
     "text": [
      "[[1 2 3]\n [4 5 6]]\n(2, 3)\n"
     ]
    }
   ],
   "source": [
    "c = np.array([[1,2,3],[4,5,6]])\n",
    "print(c)\n",
    "print(c.shape)"
   ]
  },
  {
   "cell_type": "code",
   "execution_count": 23,
   "metadata": {},
   "outputs": [
    {
     "output_type": "stream",
     "name": "stdout",
     "text": [
      "[[0. 0. 0.]\n [0. 0. 0.]\n [0. 0. 0.]]\n[[1 1 1]\n [1 1 1]]\n[[6 6]\n [6 6]\n [6 6]]\n[[1. 0. 0. 0.]\n [0. 1. 0. 0.]\n [0. 0. 1. 0.]\n [0. 0. 0. 1.]]\n[[0.61903234 0.34302216 0.52415592]\n [0.6299625  0.33173069 0.23320393]]\n"
     ]
    }
   ],
   "source": [
    "# Creating Zeroes,Ones & Custom array\n",
    "\n",
    "a = np.zeros((3,3))\n",
    "print(a)\n",
    "\n",
    "## By Default the datatypes is Float , we can change it as well\n",
    "b = np.ones((2,3),dtype=np.int64)\n",
    "print(b)\n",
    "\n",
    "c = np.full((3,2),6)\n",
    "print(c)\n",
    "\n",
    "## Identity Matrix -- Size/Square Matrix\n",
    "d = np.eye(4)\n",
    "print(d)\n",
    "\n",
    "## Random Matrix\n",
    "\n",
    "randomMatrix = np.random.random((2,3))\n",
    "print(randomMatrix)"
   ]
  },
  {
   "cell_type": "code",
   "execution_count": 21,
   "metadata": {},
   "outputs": [
    {
     "output_type": "stream",
     "name": "stdout",
     "text": [
      "[0.85227321 0.65769539]\n"
     ]
    }
   ],
   "source": [
    "print(randomMatrix[ : ,1])"
   ]
  },
  {
   "cell_type": "code",
   "execution_count": 22,
   "metadata": {},
   "outputs": [
    {
     "output_type": "stream",
     "name": "stdout",
     "text": [
      "[[0.15456697 0.85227321 0.33624007]\n [1.         1.         1.        ]]\n"
     ]
    }
   ],
   "source": [
    "randomMatrix[1, : ] = 1\n",
    "print(randomMatrix)"
   ]
  },
  {
   "cell_type": "code",
   "execution_count": 5,
   "metadata": {},
   "outputs": [
    {
     "output_type": "stream",
     "name": "stdout",
     "text": [
      "[ 5  6  7  8  9 10 11 12 13 14]\n"
     ]
    }
   ],
   "source": [
    "a = np.arange(10) + 5\n",
    "print(a)"
   ]
  },
  {
   "source": [
    "## Numpy Random Module"
   ],
   "cell_type": "markdown",
   "metadata": {}
  },
  {
   "cell_type": "code",
   "execution_count": 7,
   "metadata": {},
   "outputs": [
    {
     "output_type": "stream",
     "name": "stdout",
     "text": [
      "[14  5 12 11 10  7  8  9 13  6]\n"
     ]
    }
   ],
   "source": [
    "np.random.shuffle(a)\n",
    "print(a)"
   ]
  },
  {
   "cell_type": "code",
   "execution_count": 14,
   "metadata": {},
   "outputs": [
    {
     "output_type": "stream",
     "name": "stdout",
     "text": [
      "[[-0.71830851 -0.5656437   0.82908342  0.10743895  0.53262988]\n [-1.64561283  0.27861105 -1.0234097  -1.27377664  0.1660144 ]\n [-0.37290829  0.93456738  1.08907213  0.89197329 -0.51000115]\n [ 0.70397343  1.03343506  0.61790235 -0.42238222  0.54191754]]\n[9 6 9 9]\n5\n"
     ]
    }
   ],
   "source": [
    "# Returns values from a Standard Distribution Function\n",
    "a = np.random.randn(4,5)\n",
    "print(a)\n",
    "\n",
    "b = np.random.randint(5,10,4)\n",
    "print(b)\n",
    "\n",
    "## Randomly Picks one Element from an array\n",
    "c = np.random.choice([12,4,5,44,6,6,7,8,89,9,0,0,76,5,4,3,3,23,5,67,8,9,9,6,5,90,4])\n",
    "print(c)"
   ]
  },
  {
   "source": [
    "# Numpy Statistics Function"
   ],
   "cell_type": "markdown",
   "metadata": {}
  },
  {
   "cell_type": "code",
   "execution_count": 15,
   "metadata": {},
   "outputs": [
    {
     "output_type": "stream",
     "name": "stdout",
     "text": [
      "[[ 1  2  3  5]\n [ 7  9 19 12]]\n1\n[1 2 3 5]\n[1 7]\n"
     ]
    }
   ],
   "source": [
    "a = np.array([[1,2,3,5],[7,9,19,12]])\n",
    "print(a)\n",
    "print(np.min(a))\n",
    "print(np.min(a,axis=0))\n",
    "print(np.min(a,axis=1))"
   ]
  },
  {
   "cell_type": "code",
   "execution_count": 22,
   "metadata": {},
   "outputs": [
    {
     "output_type": "stream",
     "name": "stdout",
     "text": [
      "[1 3 4 6 7 8]\n4.833333333333333\n4.833333333333333\n[ 4.   5.5 11.   8.5]\n[ 2.75 11.75]\n"
     ]
    }
   ],
   "source": [
    "# Mean\n",
    "b = np.array([1,3,4,6,7,8])\n",
    "print(b)\n",
    "m = sum(b)/6\n",
    "print(m)\n",
    "print(np.mean(b))\n",
    "print(np.mean(a,axis=0))\n",
    "print(np.mean(a,axis=1))"
   ]
  },
  {
   "cell_type": "code",
   "execution_count": 24,
   "metadata": {},
   "outputs": [
    {
     "output_type": "stream",
     "name": "stdout",
     "text": [
      "5.0\n"
     ]
    }
   ],
   "source": [
    "# Median\n",
    "c = np.median(b)\n",
    "print(c)"
   ]
  },
  {
   "cell_type": "code",
   "execution_count": 33,
   "metadata": {},
   "outputs": [
    {
     "output_type": "stream",
     "name": "stdout",
     "text": [
      "11.0\n17.1697408250678\n17.1697408250678\n294.79999999999995\n294.8\n"
     ]
    }
   ],
   "source": [
    "# Weights\n",
    "f = np.array([1,2,0,45,7])\n",
    "w = np.array([1,1,1,1,1])\n",
    "print(np.average(f,weights=w))\n",
    "\n",
    "# Standard Deviation\n",
    "u = m=np.mean(f)\n",
    "myStd = np.sqrt(np.mean(abs(f-u)**2))\n",
    "print(myStd)\n",
    "\n",
    "# Inbuilt-Functions\n",
    "dev = np.std(f)\n",
    "print(dev)\n",
    "\n",
    "# Variance\n",
    "print(myStd**2)\n",
    "print(np.var(f))"
   ]
  },
  {
   "cell_type": "code",
   "execution_count": null,
   "metadata": {},
   "outputs": [],
   "source": []
  }
 ]
}